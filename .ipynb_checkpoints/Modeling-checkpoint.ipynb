{
 "cells": [
  {
   "cell_type": "code",
   "execution_count": 1,
   "metadata": {},
   "outputs": [],
   "source": [
    "import numpy as np\n",
    "import pandas as pd\n",
    "import matplotlib.pyplot as plt\n",
    "import seaborn as sns\n",
    "from sklearn.model_selection import train_test_split\n",
    "from sklearn.model_selection import cross_val_score\n",
    "from sklearn.metrics import accuracy_score, f1_score, roc_auc_score\n",
    "from sklearn.metrics import confusion_matrix\n",
    "from sklearn.dummy import DummyClassifier\n",
    "from sklearn.linear_model import LogisticRegression\n",
    "from sklearn.ensemble import RandomForestClassifier\n",
    "from sklearn.neighbors import KNeighborsClassifier\n",
    "from sklearn.naive_bayes import BernoulliNB\n",
    "# from imblearn.over_sampling import RandomOverSampler"
   ]
  },
  {
   "cell_type": "code",
   "execution_count": 29,
   "metadata": {},
   "outputs": [],
   "source": [
    "pd.set_option('display.max_rows', 500)"
   ]
  },
  {
   "cell_type": "markdown",
   "metadata": {},
   "source": [
    "# Import and Cleaning"
   ]
  },
  {
   "cell_type": "code",
   "execution_count": 2,
   "metadata": {},
   "outputs": [
    {
     "name": "stderr",
     "output_type": "stream",
     "text": [
      "/Users/wasilaq/opt/anaconda3/envs/fdp/lib/python3.8/site-packages/numpy/lib/arraysetops.py:580: FutureWarning: elementwise comparison failed; returning scalar instead, but in the future will perform elementwise comparison\n",
      "  mask |= (ar1 == a)\n"
     ]
    }
   ],
   "source": [
    "df = pd.read_csv('final.csv', index_col = 0)"
   ]
  },
  {
   "cell_type": "code",
   "execution_count": 3,
   "metadata": {},
   "outputs": [],
   "source": [
    "df['target_delay'] = df['arr_delay'].apply(lambda x: 1 if x > 15 else 0)\n",
    "df = df[df['dest_weather_severity'] != 'UNK']\n",
    "df.drop(columns = ['canceled', 'num_of_flights'], inplace = True)"
   ]
  },
  {
   "cell_type": "code",
   "execution_count": 4,
   "metadata": {},
   "outputs": [
    {
     "ename": "NameError",
     "evalue": "name 'all_flights' is not defined",
     "output_type": "error",
     "traceback": [
      "\u001b[0;31m---------------------------------------------------------------------------\u001b[0m",
      "\u001b[0;31mNameError\u001b[0m                                 Traceback (most recent call last)",
      "\u001b[0;32m<ipython-input-4-0bbf825e28cb>\u001b[0m in \u001b[0;36m<module>\u001b[0;34m\u001b[0m\n\u001b[1;32m      1\u001b[0m \u001b[0;31m# old code\u001b[0m\u001b[0;34m\u001b[0m\u001b[0;34m\u001b[0m\u001b[0;34m\u001b[0m\u001b[0m\n\u001b[1;32m      2\u001b[0m \u001b[0;34m\u001b[0m\u001b[0m\n\u001b[0;32m----> 3\u001b[0;31m \u001b[0mdf\u001b[0m\u001b[0;34m[\u001b[0m\u001b[0;34m'Type'\u001b[0m\u001b[0;34m]\u001b[0m \u001b[0;34m=\u001b[0m \u001b[0mall_flights\u001b[0m\u001b[0;34m[\u001b[0m\u001b[0;34m'Type'\u001b[0m\u001b[0;34m]\u001b[0m\u001b[0;34m.\u001b[0m\u001b[0mfillna\u001b[0m\u001b[0;34m(\u001b[0m\u001b[0;34m'None'\u001b[0m\u001b[0;34m)\u001b[0m\u001b[0;34m\u001b[0m\u001b[0;34m\u001b[0m\u001b[0m\n\u001b[0m\u001b[1;32m      4\u001b[0m \u001b[0mdf\u001b[0m\u001b[0;34m[\u001b[0m\u001b[0;34m'severity'\u001b[0m\u001b[0;34m]\u001b[0m \u001b[0;34m=\u001b[0m \u001b[0mall_flights\u001b[0m\u001b[0;34m[\u001b[0m\u001b[0;34m'severity'\u001b[0m\u001b[0;34m]\u001b[0m\u001b[0;34m.\u001b[0m\u001b[0mfillna\u001b[0m\u001b[0;34m(\u001b[0m\u001b[0;34m'None'\u001b[0m\u001b[0;34m)\u001b[0m\u001b[0;34m\u001b[0m\u001b[0;34m\u001b[0m\u001b[0m\n",
      "\u001b[0;31mNameError\u001b[0m: name 'all_flights' is not defined"
     ]
    }
   ],
   "source": [
    "# old code\n",
    "\n",
    "all_flights['Type'] = all_flights['Type'].fillna('None')\n",
    "all_flights['severity'] = all_flights['severity'].fillna('None')"
   ]
  },
  {
   "cell_type": "code",
   "execution_count": 5,
   "metadata": {
    "scrolled": true
   },
   "outputs": [
    {
     "data": {
      "text/plain": [
       "Index(['day_of_week', 'flight_date', 'reporting_airline', 'name',\n",
       "       'tail_number', 'origin', 'origin_city', 'origin_statecode', 'dest',\n",
       "       'dest_city', 'dest_statecode', 'dep_delay', 'arr_delay', 'diverted',\n",
       "       'set_elapsed_time', 'actual_elapsed_time', 'miles', 'diverted_landings',\n",
       "       'origin_timezone', 'dest_timezone', 'arrtime', 'deptime', 'set_arrtime',\n",
       "       'set_deptime', 'dep', 'dep_utc', 'arr_utc', 'origin_weather_type',\n",
       "       'origin_weather_severity', 'dest_weather_type', 'dest_weather_severity',\n",
       "       'target_delay'],\n",
       "      dtype='object')"
      ]
     },
     "execution_count": 5,
     "metadata": {},
     "output_type": "execute_result"
    }
   ],
   "source": [
    "df.columns"
   ]
  },
  {
   "cell_type": "code",
   "execution_count": 6,
   "metadata": {
    "scrolled": true
   },
   "outputs": [
    {
     "data": {
      "text/html": [
       "<div>\n",
       "<style scoped>\n",
       "    .dataframe tbody tr th:only-of-type {\n",
       "        vertical-align: middle;\n",
       "    }\n",
       "\n",
       "    .dataframe tbody tr th {\n",
       "        vertical-align: top;\n",
       "    }\n",
       "\n",
       "    .dataframe thead th {\n",
       "        text-align: right;\n",
       "    }\n",
       "</style>\n",
       "<table border=\"1\" class=\"dataframe\">\n",
       "  <thead>\n",
       "    <tr style=\"text-align: right;\">\n",
       "      <th></th>\n",
       "      <th>day_of_week</th>\n",
       "      <th>flight_date</th>\n",
       "      <th>reporting_airline</th>\n",
       "      <th>name</th>\n",
       "      <th>tail_number</th>\n",
       "      <th>origin</th>\n",
       "      <th>origin_city</th>\n",
       "      <th>origin_statecode</th>\n",
       "      <th>dest</th>\n",
       "      <th>dest_city</th>\n",
       "      <th>...</th>\n",
       "      <th>set_arrtime</th>\n",
       "      <th>set_deptime</th>\n",
       "      <th>dep</th>\n",
       "      <th>dep_utc</th>\n",
       "      <th>arr_utc</th>\n",
       "      <th>origin_weather_type</th>\n",
       "      <th>origin_weather_severity</th>\n",
       "      <th>dest_weather_type</th>\n",
       "      <th>dest_weather_severity</th>\n",
       "      <th>target_delay</th>\n",
       "    </tr>\n",
       "  </thead>\n",
       "  <tbody>\n",
       "    <tr>\n",
       "      <th>0</th>\n",
       "      <td>Monday</td>\n",
       "      <td>2019-04-01</td>\n",
       "      <td>NK</td>\n",
       "      <td>Spirit Air Lines</td>\n",
       "      <td>N605NK</td>\n",
       "      <td>BWI</td>\n",
       "      <td>Baltimore, MD</td>\n",
       "      <td>MD</td>\n",
       "      <td>MCO</td>\n",
       "      <td>Orlando, FL</td>\n",
       "      <td>...</td>\n",
       "      <td>12:12:00</td>\n",
       "      <td>10:10:00</td>\n",
       "      <td>2019-04-01 10:10:00</td>\n",
       "      <td>2019-04-01 15:10:00</td>\n",
       "      <td>2019-04-01 17:35:00</td>\n",
       "      <td>NaN</td>\n",
       "      <td>NaN</td>\n",
       "      <td>NaN</td>\n",
       "      <td>NaN</td>\n",
       "      <td>1</td>\n",
       "    </tr>\n",
       "    <tr>\n",
       "      <th>1</th>\n",
       "      <td>Monday</td>\n",
       "      <td>2019-04-08</td>\n",
       "      <td>NK</td>\n",
       "      <td>Spirit Air Lines</td>\n",
       "      <td>N904NK</td>\n",
       "      <td>BWI</td>\n",
       "      <td>Baltimore, MD</td>\n",
       "      <td>MD</td>\n",
       "      <td>MCO</td>\n",
       "      <td>Orlando, FL</td>\n",
       "      <td>...</td>\n",
       "      <td>12:12:00</td>\n",
       "      <td>10:10:00</td>\n",
       "      <td>2019-04-08 10:10:00</td>\n",
       "      <td>2019-04-08 15:10:00</td>\n",
       "      <td>2019-04-08 17:35:00</td>\n",
       "      <td>NaN</td>\n",
       "      <td>NaN</td>\n",
       "      <td>NaN</td>\n",
       "      <td>NaN</td>\n",
       "      <td>0</td>\n",
       "    </tr>\n",
       "    <tr>\n",
       "      <th>2</th>\n",
       "      <td>Monday</td>\n",
       "      <td>2019-04-15</td>\n",
       "      <td>NK</td>\n",
       "      <td>Spirit Air Lines</td>\n",
       "      <td>N637NK</td>\n",
       "      <td>BWI</td>\n",
       "      <td>Baltimore, MD</td>\n",
       "      <td>MD</td>\n",
       "      <td>MCO</td>\n",
       "      <td>Orlando, FL</td>\n",
       "      <td>...</td>\n",
       "      <td>12:12:00</td>\n",
       "      <td>10:10:00</td>\n",
       "      <td>2019-04-15 10:10:00</td>\n",
       "      <td>2019-04-15 15:10:00</td>\n",
       "      <td>2019-04-15 17:35:00</td>\n",
       "      <td>Storm</td>\n",
       "      <td>Severe</td>\n",
       "      <td>NaN</td>\n",
       "      <td>NaN</td>\n",
       "      <td>0</td>\n",
       "    </tr>\n",
       "    <tr>\n",
       "      <th>3</th>\n",
       "      <td>Monday</td>\n",
       "      <td>2019-04-22</td>\n",
       "      <td>NK</td>\n",
       "      <td>Spirit Air Lines</td>\n",
       "      <td>N619NK</td>\n",
       "      <td>BWI</td>\n",
       "      <td>Baltimore, MD</td>\n",
       "      <td>MD</td>\n",
       "      <td>MCO</td>\n",
       "      <td>Orlando, FL</td>\n",
       "      <td>...</td>\n",
       "      <td>12:12:00</td>\n",
       "      <td>10:10:00</td>\n",
       "      <td>2019-04-22 11:11:00</td>\n",
       "      <td>2019-04-22 16:11:00</td>\n",
       "      <td>2019-04-22 18:36:00</td>\n",
       "      <td>NaN</td>\n",
       "      <td>NaN</td>\n",
       "      <td>NaN</td>\n",
       "      <td>NaN</td>\n",
       "      <td>1</td>\n",
       "    </tr>\n",
       "    <tr>\n",
       "      <th>4</th>\n",
       "      <td>Monday</td>\n",
       "      <td>2019-04-29</td>\n",
       "      <td>NK</td>\n",
       "      <td>Spirit Air Lines</td>\n",
       "      <td>N644NK</td>\n",
       "      <td>BWI</td>\n",
       "      <td>Baltimore, MD</td>\n",
       "      <td>MD</td>\n",
       "      <td>MCO</td>\n",
       "      <td>Orlando, FL</td>\n",
       "      <td>...</td>\n",
       "      <td>12:12:00</td>\n",
       "      <td>10:10:00</td>\n",
       "      <td>2019-04-29 10:10:00</td>\n",
       "      <td>2019-04-29 15:10:00</td>\n",
       "      <td>2019-04-29 17:35:00</td>\n",
       "      <td>NaN</td>\n",
       "      <td>NaN</td>\n",
       "      <td>NaN</td>\n",
       "      <td>NaN</td>\n",
       "      <td>0</td>\n",
       "    </tr>\n",
       "  </tbody>\n",
       "</table>\n",
       "<p>5 rows × 32 columns</p>\n",
       "</div>"
      ],
      "text/plain": [
       "  day_of_week flight_date reporting_airline              name tail_number  \\\n",
       "0      Monday  2019-04-01                NK  Spirit Air Lines      N605NK   \n",
       "1      Monday  2019-04-08                NK  Spirit Air Lines      N904NK   \n",
       "2      Monday  2019-04-15                NK  Spirit Air Lines      N637NK   \n",
       "3      Monday  2019-04-22                NK  Spirit Air Lines      N619NK   \n",
       "4      Monday  2019-04-29                NK  Spirit Air Lines      N644NK   \n",
       "\n",
       "  origin    origin_city origin_statecode dest    dest_city  ... set_arrtime  \\\n",
       "0    BWI  Baltimore, MD               MD  MCO  Orlando, FL  ...    12:12:00   \n",
       "1    BWI  Baltimore, MD               MD  MCO  Orlando, FL  ...    12:12:00   \n",
       "2    BWI  Baltimore, MD               MD  MCO  Orlando, FL  ...    12:12:00   \n",
       "3    BWI  Baltimore, MD               MD  MCO  Orlando, FL  ...    12:12:00   \n",
       "4    BWI  Baltimore, MD               MD  MCO  Orlando, FL  ...    12:12:00   \n",
       "\n",
       "   set_deptime                  dep              dep_utc              arr_utc  \\\n",
       "0     10:10:00  2019-04-01 10:10:00  2019-04-01 15:10:00  2019-04-01 17:35:00   \n",
       "1     10:10:00  2019-04-08 10:10:00  2019-04-08 15:10:00  2019-04-08 17:35:00   \n",
       "2     10:10:00  2019-04-15 10:10:00  2019-04-15 15:10:00  2019-04-15 17:35:00   \n",
       "3     10:10:00  2019-04-22 11:11:00  2019-04-22 16:11:00  2019-04-22 18:36:00   \n",
       "4     10:10:00  2019-04-29 10:10:00  2019-04-29 15:10:00  2019-04-29 17:35:00   \n",
       "\n",
       "   origin_weather_type  origin_weather_severity  dest_weather_type  \\\n",
       "0                  NaN                      NaN                NaN   \n",
       "1                  NaN                      NaN                NaN   \n",
       "2                Storm                   Severe                NaN   \n",
       "3                  NaN                      NaN                NaN   \n",
       "4                  NaN                      NaN                NaN   \n",
       "\n",
       "  dest_weather_severity target_delay  \n",
       "0                   NaN            1  \n",
       "1                   NaN            0  \n",
       "2                   NaN            0  \n",
       "3                   NaN            1  \n",
       "4                   NaN            0  \n",
       "\n",
       "[5 rows x 32 columns]"
      ]
     },
     "execution_count": 6,
     "metadata": {},
     "output_type": "execute_result"
    }
   ],
   "source": [
    "df.head()"
   ]
  },
  {
   "cell_type": "markdown",
   "metadata": {},
   "source": [
    "# EDA"
   ]
  },
  {
   "cell_type": "code",
   "execution_count": 39,
   "metadata": {},
   "outputs": [
    {
     "data": {
      "text/plain": [
       "Text(0.5, 1.0, 'Origin Weather')"
      ]
     },
     "execution_count": 39,
     "metadata": {},
     "output_type": "execute_result"
    },
    {
     "data": {
      "image/png": "[encoded data removed]",
      "text/plain": [
       "<Figure size 432x288 with 1 Axes>"
      ]
     },
     "metadata": {},
     "output_type": "display_data"
    },
    {
     "data": {
      "image/png": "[encoded data removed]",
      "text/plain": [
       "<Figure size 432x288 with 1 Axes>"
      ]
     },
     "metadata": {},
     "output_type": "display_data"
    }
   ],
   "source": [
    "precipitation_del_d = pd.crosstab(df['dest_weather_type'], df['target_delay'].astype(bool))\n",
    "precipitation_del_d.div(precipitation_del_d.sum(1).astype(float), axis=0).plot(kind='bar', stacked=True)\n",
    "plt.title(\"Destination Weather\")\n",
    "\n",
    "precipitation_del_o = pd.crosstab(df['origin_weather_type'], df['target_delay'].astype(bool))\n",
    "precipitation_del_o.div(precipitation_del_o.sum(1).astype(float), axis=0).plot(kind='bar', stacked=True)\n",
    "plt.title(\"Origin Weather\")"
   ]
  },
  {
   "cell_type": "code",
   "execution_count": 40,
   "metadata": {},
   "outputs": [
    {
     "data": {
      "text/plain": [
       "<AxesSubplot:xlabel='day_of_week'>"
      ]
     },
     "execution_count": 40,
     "metadata": {},
     "output_type": "execute_result"
    },
    {
     "data": {
      "image/png": "[encoded data removed]",
      "text/plain": [
       "<Figure size 432x288 with 1 Axes>"
      ]
     },
     "metadata": {},
     "output_type": "display_data"
    }
   ],
   "source": [
    "dayofwk_del = pd.crosstab(df['day_of_week'], df['target_delay'].astype(bool))\n",
    "dayofwk_del.div(dayofwk_del.sum(1).astype(float), axis=0).plot(kind='bar', stacked=True)"
   ]
  },
  {
   "cell_type": "code",
   "execution_count": 41,
   "metadata": {},
   "outputs": [
    {
     "data": {
      "text/plain": [
       "<AxesSubplot:xlabel='dest_statecode'>"
      ]
     },
     "execution_count": 41,
     "metadata": {},
     "output_type": "execute_result"
    },
    {
     "data": {
      "image/png": "[encoded data removed]",
      "text/plain": [
       "<Figure size 1080x360 with 1 Axes>"
      ]
     },
     "metadata": {},
     "output_type": "display_data"
    }
   ],
   "source": [
    "deststate_del = pd.crosstab(df['dest_statecode'],df['target_delay'].astype(bool))\n",
    "deststate_del.div(deststate_del.sum(1).astype(float), axis=0).plot(kind='bar', stacked=True, figsize=(15,5))"
   ]
  },
  {
   "cell_type": "code",
   "execution_count": 42,
   "metadata": {},
   "outputs": [
    {
     "data": {
      "text/plain": [
       "<AxesSubplot:xlabel='origin_statecode'>"
      ]
     },
     "execution_count": 42,
     "metadata": {},
     "output_type": "execute_result"
    },
    {
     "data": {
      "image/png": "[encoded data removed]",
      "text/plain": [
       "<Figure size 1080x360 with 1 Axes>"
      ]
     },
     "metadata": {},
     "output_type": "display_data"
    }
   ],
   "source": [
    "deststate_del = pd.crosstab(df['origin_statecode'], df['target_delay'].astype(bool))\n",
    "deststate_del.div(deststate_del.sum(1).astype(float), axis=0).plot(kind='bar', stacked=True, figsize=(15,5))"
   ]
  },
  {
   "cell_type": "code",
   "execution_count": 43,
   "metadata": {},
   "outputs": [
    {
     "data": {
      "text/plain": [
       "<AxesSubplot:xlabel='reporting_airline'>"
      ]
     },
     "execution_count": 43,
     "metadata": {},
     "output_type": "execute_result"
    },
    {
     "data": {
      "image/png": "[encoded data removed]",
      "text/plain": [
       "<Figure size 1080x360 with 1 Axes>"
      ]
     },
     "metadata": {},
     "output_type": "display_data"
    }
   ],
   "source": [
    "op_airline_del = pd.crosstab(df['reporting_airline'], df['target_delay'].astype(bool))\n",
    "op_airline_del.div(op_airline_del.sum(1).astype(float), axis=0).plot(kind='bar', stacked=True, figsize=(15,5))"
   ]
  },
  {
   "cell_type": "markdown",
   "metadata": {},
   "source": [
    "## Correlations"
   ]
  },
  {
   "cell_type": "code",
   "execution_count": 4,
   "metadata": {},
   "outputs": [],
   "source": [
    "categorical = [\n",
    "    'day_of_week', 'reporting_airline', 'origin_statecode', 'dest_statecode', 'origin_weather_type', 'origin_weather_severity', 'dest_weather_type', 'dest_weather_severity'\n",
    "]\n",
    "\n",
    "data_types = dict()\n",
    "\n",
    "for x in categorical:\n",
    "    data_types[x] = 'category' \n",
    "\n",
    "data_types['miles'] = 'uint16'\n",
    "data_types['target_delay'] = 'uint8'\n",
    "    \n",
    "data = df.drop(\n",
    "    columns = [\n",
    "        'arrtime', 'set_arrtime', 'dep_utc', 'arr_utc', 'flight_date', 'name', 'tail_number', 'dep_delay', 'diverted', 'arr_delay', 'actual_elapsed_time', 'set_elapsed_time', 'origin', 'origin_city', 'dest', 'dest_city', 'deptime', 'set_deptime', 'dep', 'origin_timezone', 'dest_timezone', 'diverted_landings'\n",
    "    ]\n",
    ").astype(data_types)"
   ]
  },
  {
   "cell_type": "code",
   "execution_count": 5,
   "metadata": {},
   "outputs": [
    {
     "data": {
      "text/plain": [
       "Index(['day_of_week', 'reporting_airline', 'origin_statecode',\n",
       "       'dest_statecode', 'miles', 'origin_weather_type',\n",
       "       'origin_weather_severity', 'dest_weather_type', 'dest_weather_severity',\n",
       "       'target_delay'],\n",
       "      dtype='object')"
      ]
     },
     "execution_count": 5,
     "metadata": {},
     "output_type": "execute_result"
    }
   ],
   "source": [
    "data.columns"
   ]
  },
  {
   "cell_type": "code",
   "execution_count": 6,
   "metadata": {},
   "outputs": [
    {
     "name": "stdout",
     "output_type": "stream",
     "text": [
      "<class 'pandas.core.frame.DataFrame'>\n",
      "Int64Index: 2153255 entries, 0 to 2155433\n",
      "Data columns (total 10 columns):\n",
      " #   Column                   Dtype   \n",
      "---  ------                   -----   \n",
      " 0   day_of_week              category\n",
      " 1   reporting_airline        category\n",
      " 2   origin_statecode         category\n",
      " 3   dest_statecode           category\n",
      " 4   miles                    uint16  \n",
      " 5   origin_weather_type      category\n",
      " 6   origin_weather_severity  category\n",
      " 7   dest_weather_type        category\n",
      " 8   dest_weather_severity    category\n",
      " 9   target_delay             uint8   \n",
      "dtypes: category(8), uint16(1), uint8(1)\n",
      "memory usage: 39.0 MB\n"
     ]
    }
   ],
   "source": [
    "data.info()"
   ]
  },
  {
   "cell_type": "code",
   "execution_count": 11,
   "metadata": {},
   "outputs": [],
   "source": [
    "data2 = pd.get_dummies(data, drop_first = True)"
   ]
  },
  {
   "cell_type": "code",
   "execution_count": 12,
   "metadata": {},
   "outputs": [
    {
     "name": "stdout",
     "output_type": "stream",
     "text": [
      "<class 'pandas.core.frame.DataFrame'>\n",
      "Int64Index: 2153255 entries, 0 to 2155433\n",
      "Data columns (total 97 columns):\n",
      " #   Column                             Dtype \n",
      "---  ------                             ----- \n",
      " 0   miles                              uint16\n",
      " 1   target_delay                       uint8 \n",
      " 2   day_of_week_Monday                 uint8 \n",
      " 3   day_of_week_Saturday               uint8 \n",
      " 4   day_of_week_Sunday                 uint8 \n",
      " 5   day_of_week_Thursday               uint8 \n",
      " 6   day_of_week_Tuesday                uint8 \n",
      " 7   day_of_week_Wednesday              uint8 \n",
      " 8   reporting_airline_AA               uint8 \n",
      " 9   reporting_airline_AS               uint8 \n",
      " 10  reporting_airline_B6               uint8 \n",
      " 11  reporting_airline_DL               uint8 \n",
      " 12  reporting_airline_EV               uint8 \n",
      " 13  reporting_airline_F9               uint8 \n",
      " 14  reporting_airline_G4               uint8 \n",
      " 15  reporting_airline_MQ               uint8 \n",
      " 16  reporting_airline_NK               uint8 \n",
      " 17  reporting_airline_OH               uint8 \n",
      " 18  reporting_airline_OO               uint8 \n",
      " 19  reporting_airline_UA               uint8 \n",
      " 20  reporting_airline_WN               uint8 \n",
      " 21  reporting_airline_YV               uint8 \n",
      " 22  reporting_airline_YX               uint8 \n",
      " 23  origin_statecode_AR                uint8 \n",
      " 24  origin_statecode_AZ                uint8 \n",
      " 25  origin_statecode_CA                uint8 \n",
      " 26  origin_statecode_CO                uint8 \n",
      " 27  origin_statecode_CT                uint8 \n",
      " 28  origin_statecode_FL                uint8 \n",
      " 29  origin_statecode_GA                uint8 \n",
      " 30  origin_statecode_IA                uint8 \n",
      " 31  origin_statecode_ID                uint8 \n",
      " 32  origin_statecode_IL                uint8 \n",
      " 33  origin_statecode_IN                uint8 \n",
      " 34  origin_statecode_KS                uint8 \n",
      " 35  origin_statecode_KY                uint8 \n",
      " 36  origin_statecode_LA                uint8 \n",
      " 37  origin_statecode_MA                uint8 \n",
      " 38  origin_statecode_MD                uint8 \n",
      " 39  origin_statecode_ME                uint8 \n",
      " 40  origin_statecode_MI                uint8 \n",
      " 41  origin_statecode_MN                uint8 \n",
      " 42  origin_statecode_MO                uint8 \n",
      " 43  origin_statecode_MS                uint8 \n",
      " 44  origin_statecode_MT                uint8 \n",
      " 45  origin_statecode_NC                uint8 \n",
      " 46  origin_statecode_ND                uint8 \n",
      " 47  origin_statecode_NE                uint8 \n",
      " 48  origin_statecode_NH                uint8 \n",
      " 49  origin_statecode_NJ                uint8 \n",
      " 50  origin_statecode_NM                uint8 \n",
      " 51  origin_statecode_NV                uint8 \n",
      " 52  origin_statecode_NY                uint8 \n",
      " 53  origin_statecode_OH                uint8 \n",
      " 54  origin_statecode_OK                uint8 \n",
      " 55  origin_statecode_OR                uint8 \n",
      " 56  origin_statecode_PA                uint8 \n",
      " 57  origin_statecode_RI                uint8 \n",
      " 58  origin_statecode_SC                uint8 \n",
      " 59  origin_statecode_SD                uint8 \n",
      " 60  origin_statecode_TN                uint8 \n",
      " 61  origin_statecode_TX                uint8 \n",
      " 62  origin_statecode_UT                uint8 \n",
      " 63  origin_statecode_VA                uint8 \n",
      " 64  origin_statecode_VT                uint8 \n",
      " 65  origin_statecode_WA                uint8 \n",
      " 66  origin_statecode_WI                uint8 \n",
      " 67  origin_statecode_WV                uint8 \n",
      " 68  origin_statecode_WY                uint8 \n",
      " 69  dest_statecode_CO                  uint8 \n",
      " 70  dest_statecode_FL                  uint8 \n",
      " 71  dest_statecode_GA                  uint8 \n",
      " 72  dest_statecode_IL                  uint8 \n",
      " 73  dest_statecode_NV                  uint8 \n",
      " 74  dest_statecode_NY                  uint8 \n",
      " 75  dest_statecode_TX                  uint8 \n",
      " 76  dest_statecode_WA                  uint8 \n",
      " 77  origin_weather_type_Fog            uint8 \n",
      " 78  origin_weather_type_Hail           uint8 \n",
      " 79  origin_weather_type_Precipitation  uint8 \n",
      " 80  origin_weather_type_Rain           uint8 \n",
      " 81  origin_weather_type_Snow           uint8 \n",
      " 82  origin_weather_type_Storm          uint8 \n",
      " 83  origin_weather_severity_Light      uint8 \n",
      " 84  origin_weather_severity_Moderate   uint8 \n",
      " 85  origin_weather_severity_Other      uint8 \n",
      " 86  origin_weather_severity_Severe     uint8 \n",
      " 87  origin_weather_severity_UNK        uint8 \n",
      " 88  dest_weather_type_Fog              uint8 \n",
      " 89  dest_weather_type_Hail             uint8 \n",
      " 90  dest_weather_type_Rain             uint8 \n",
      " 91  dest_weather_type_Snow             uint8 \n",
      " 92  dest_weather_type_Storm            uint8 \n",
      " 93  dest_weather_severity_Light        uint8 \n",
      " 94  dest_weather_severity_Moderate     uint8 \n",
      " 95  dest_weather_severity_Other        uint8 \n",
      " 96  dest_weather_severity_Severe       uint8 \n",
      "dtypes: uint16(1), uint8(96)\n",
      "memory usage: 217.7 MB\n"
     ]
    }
   ],
   "source": [
    "data2.info()"
   ]
  },
  {
   "cell_type": "code",
   "execution_count": null,
   "metadata": {},
   "outputs": [],
   "source": [
    "corr = data2.corr()\n",
    "mask = np.triu(np.ones_like(corr, dtype=np.bool))"
   ]
  },
  {
   "cell_type": "code",
   "execution_count": 34,
   "metadata": {},
   "outputs": [
    {
     "data": {
      "text/plain": [
       "dest_statecode_GA                   -0.064225\n",
       "reporting_airline_DL                -0.062636\n",
       "day_of_week_Tuesday                 -0.015286\n",
       "reporting_airline_WN                -0.014076\n",
       "day_of_week_Saturday                -0.012833\n",
       "origin_statecode_SC                 -0.011787\n",
       "origin_statecode_VA                 -0.010458\n",
       "origin_statecode_FL                 -0.009686\n",
       "origin_statecode_OH                 -0.008993\n",
       "origin_statecode_UT                 -0.007744\n",
       "dest_statecode_NV                   -0.007384\n",
       "origin_statecode_OK                 -0.006126\n",
       "origin_statecode_TN                 -0.006031\n",
       "origin_statecode_AZ                 -0.005999\n",
       "origin_statecode_OR                 -0.005596\n",
       "origin_statecode_GA                 -0.004863\n",
       "origin_statecode_NM                 -0.004376\n",
       "reporting_airline_YX                -0.004047\n",
       "origin_statecode_IN                 -0.004025\n",
       "origin_statecode_NE                 -0.004015\n",
       "origin_statecode_CA                 -0.003536\n",
       "origin_statecode_MS                 -0.003284\n",
       "origin_statecode_WI                 -0.003278\n",
       "origin_statecode_CT                 -0.003252\n",
       "origin_statecode_LA                 -0.003194\n",
       "origin_statecode_ID                 -0.002466\n",
       "origin_statecode_AR                 -0.002459\n",
       "origin_statecode_KY                 -0.002056\n",
       "day_of_week_Wednesday               -0.001729\n",
       "origin_statecode_RI                 -0.001712\n",
       "origin_statecode_MN                 -0.001670\n",
       "origin_statecode_MO                 -0.001537\n",
       "origin_statecode_MI                 -0.001461\n",
       "origin_statecode_NH                 -0.001227\n",
       "origin_statecode_MD                 -0.001137\n",
       "reporting_airline_OH                -0.000695\n",
       "origin_statecode_WA                 -0.000671\n",
       "origin_statecode_KS                 -0.000631\n",
       "origin_statecode_NV                 -0.000399\n",
       "origin_weather_type_Fog             -0.000315\n",
       "origin_statecode_NC                  0.000873\n",
       "reporting_airline_NK                 0.000988\n",
       "dest_statecode_CO                    0.001028\n",
       "origin_statecode_MT                  0.001171\n",
       "dest_statecode_WA                    0.001753\n",
       "origin_statecode_PA                  0.001839\n",
       "origin_statecode_WV                  0.002078\n",
       "origin_statecode_ME                  0.002244\n",
       "reporting_airline_G4                 0.002692\n",
       "origin_statecode_VT                  0.002730\n",
       "origin_statecode_TX                  0.002966\n",
       "dest_statecode_FL                    0.002972\n",
       "origin_statecode_IA                  0.003134\n",
       "dest_statecode_NY                    0.003295\n",
       "origin_statecode_WY                  0.003309\n",
       "dest_weather_severity_Other          0.003604\n",
       "dest_weather_type_Hail               0.003604\n",
       "day_of_week_Sunday                   0.004594\n",
       "origin_statecode_ND                  0.004642\n",
       "dest_weather_type_Fog                0.004696\n",
       "origin_statecode_SD                  0.004843\n",
       "dest_weather_type_Storm              0.006392\n",
       "reporting_airline_MQ                 0.006685\n",
       "origin_weather_type_Storm            0.006764\n",
       "origin_weather_severity_Severe       0.007182\n",
       "dest_statecode_TX                    0.007303\n",
       "day_of_week_Monday                   0.007521\n",
       "reporting_airline_YV                 0.007694\n",
       "origin_statecode_MA                  0.008951\n",
       "reporting_airline_UA                 0.010095\n",
       "origin_weather_severity_Other        0.010246\n",
       "origin_weather_type_Hail             0.010246\n",
       "reporting_airline_AS                 0.011607\n",
       "origin_statecode_NY                  0.012324\n",
       "reporting_airline_EV                 0.013810\n",
       "dest_weather_severity_Severe         0.013962\n",
       "reporting_airline_OO                 0.014481\n",
       "day_of_week_Thursday                 0.015919\n",
       "origin_weather_severity_Moderate     0.019623\n",
       "origin_statecode_CO                  0.019896\n",
       "reporting_airline_B6                 0.020841\n",
       "miles                                0.021594\n",
       "origin_statecode_IL                  0.023096\n",
       "dest_weather_severity_Moderate       0.023296\n",
       "origin_statecode_NJ                  0.024062\n",
       "reporting_airline_AA                 0.024386\n",
       "origin_weather_type_Precipitation    0.030858\n",
       "origin_weather_severity_UNK          0.030858\n",
       "dest_statecode_IL                    0.031690\n",
       "reporting_airline_F9                 0.031707\n",
       "origin_weather_type_Rain             0.056374\n",
       "dest_weather_type_Snow               0.058692\n",
       "dest_weather_type_Rain               0.078023\n",
       "origin_weather_severity_Light        0.078048\n",
       "dest_weather_severity_Light          0.083934\n",
       "origin_weather_type_Snow             0.090095\n",
       "target_delay                         1.000000\n",
       "Name: target_delay, dtype: float64"
      ]
     },
     "execution_count": 34,
     "metadata": {},
     "output_type": "execute_result"
    }
   ],
   "source": [
    "corr['target_delay'].sort_values()"
   ]
  },
  {
   "cell_type": "code",
   "execution_count": 20,
   "metadata": {},
   "outputs": [
    {
     "data": {
      "text/plain": [
       "<AxesSubplot:>"
      ]
     },
     "execution_count": 20,
     "metadata": {},
     "output_type": "execute_result"
    },
    {
     "data": {
      "image/png": "[encoded data removed]",
      "text/plain": [
       "<Figure size 1080x864 with 2 Axes>"
      ]
     },
     "metadata": {},
     "output_type": "display_data"
    }
   ],
   "source": [
    "sns.set_style(style = 'white')\n",
    "f, ax = plt.subplots(figsize=(15, 12))\n",
    "cmap = sns.diverging_palette(10, 250, as_cmap=True)\n",
    "sns.heatmap(corr, mask=mask, cmap=cmap, square=True, linewidths=.5, cbar_kws={\"shrink\": .5}, ax=ax)"
   ]
  },
  {
   "cell_type": "markdown",
   "metadata": {},
   "source": [
    "### VIF"
   ]
  },
  {
   "cell_type": "code",
   "execution_count": null,
   "metadata": {},
   "outputs": [],
   "source": []
  },
  {
   "cell_type": "markdown",
   "metadata": {},
   "source": [
    "# Class Imbalance"
   ]
  },
  {
   "cell_type": "code",
   "execution_count": 35,
   "metadata": {},
   "outputs": [
    {
     "data": {
      "text/plain": [
       "0    1744731\n",
       "1     408524\n",
       "Name: target_delay, dtype: int64"
      ]
     },
     "execution_count": 35,
     "metadata": {},
     "output_type": "execute_result"
    }
   ],
   "source": [
    "data2['target_delay'].value_counts()"
   ]
  },
  {
   "cell_type": "code",
   "execution_count": null,
   "metadata": {},
   "outputs": [],
   "source": []
  },
  {
   "cell_type": "code",
   "execution_count": null,
   "metadata": {},
   "outputs": [],
   "source": []
  },
  {
   "cell_type": "markdown",
   "metadata": {},
   "source": [
    "# Modeling"
   ]
  },
  {
   "cell_type": "code",
   "execution_count": 4,
   "metadata": {},
   "outputs": [],
   "source": [
    "# False positives and false negatives are equally important\n",
    "# Classes are imbalanced\n",
    "# Use F1 as metric"
   ]
  },
  {
   "cell_type": "markdown",
   "metadata": {},
   "source": [
    "## Logistic Regression"
   ]
  },
  {
   "cell_type": "markdown",
   "metadata": {},
   "source": [
    "### Features: Type"
   ]
  },
  {
   "cell_type": "code",
   "execution_count": 5,
   "metadata": {},
   "outputs": [
    {
     "data": {
      "text/html": [
       "<div>\n",
       "<style scoped>\n",
       "    .dataframe tbody tr th:only-of-type {\n",
       "        vertical-align: middle;\n",
       "    }\n",
       "\n",
       "    .dataframe tbody tr th {\n",
       "        vertical-align: top;\n",
       "    }\n",
       "\n",
       "    .dataframe thead th {\n",
       "        text-align: right;\n",
       "    }\n",
       "</style>\n",
       "<table border=\"1\" class=\"dataframe\">\n",
       "  <thead>\n",
       "    <tr style=\"text-align: right;\">\n",
       "      <th></th>\n",
       "      <th>Fog</th>\n",
       "      <th>Rain</th>\n",
       "      <th>Snow</th>\n",
       "    </tr>\n",
       "  </thead>\n",
       "  <tbody>\n",
       "    <tr>\n",
       "      <th>0</th>\n",
       "      <td>0</td>\n",
       "      <td>0</td>\n",
       "      <td>0</td>\n",
       "    </tr>\n",
       "    <tr>\n",
       "      <th>1</th>\n",
       "      <td>0</td>\n",
       "      <td>0</td>\n",
       "      <td>0</td>\n",
       "    </tr>\n",
       "    <tr>\n",
       "      <th>2</th>\n",
       "      <td>0</td>\n",
       "      <td>0</td>\n",
       "      <td>0</td>\n",
       "    </tr>\n",
       "    <tr>\n",
       "      <th>3</th>\n",
       "      <td>0</td>\n",
       "      <td>1</td>\n",
       "      <td>0</td>\n",
       "    </tr>\n",
       "    <tr>\n",
       "      <th>4</th>\n",
       "      <td>0</td>\n",
       "      <td>0</td>\n",
       "      <td>0</td>\n",
       "    </tr>\n",
       "    <tr>\n",
       "      <th>...</th>\n",
       "      <td>...</td>\n",
       "      <td>...</td>\n",
       "      <td>...</td>\n",
       "    </tr>\n",
       "    <tr>\n",
       "      <th>29730</th>\n",
       "      <td>0</td>\n",
       "      <td>0</td>\n",
       "      <td>0</td>\n",
       "    </tr>\n",
       "    <tr>\n",
       "      <th>29731</th>\n",
       "      <td>0</td>\n",
       "      <td>0</td>\n",
       "      <td>0</td>\n",
       "    </tr>\n",
       "    <tr>\n",
       "      <th>29732</th>\n",
       "      <td>0</td>\n",
       "      <td>0</td>\n",
       "      <td>0</td>\n",
       "    </tr>\n",
       "    <tr>\n",
       "      <th>29733</th>\n",
       "      <td>0</td>\n",
       "      <td>0</td>\n",
       "      <td>0</td>\n",
       "    </tr>\n",
       "    <tr>\n",
       "      <th>29734</th>\n",
       "      <td>0</td>\n",
       "      <td>0</td>\n",
       "      <td>0</td>\n",
       "    </tr>\n",
       "  </tbody>\n",
       "</table>\n",
       "<p>29735 rows × 3 columns</p>\n",
       "</div>"
      ],
      "text/plain": [
       "       Fog  Rain  Snow\n",
       "0        0     0     0\n",
       "1        0     0     0\n",
       "2        0     0     0\n",
       "3        0     1     0\n",
       "4        0     0     0\n",
       "...    ...   ...   ...\n",
       "29730    0     0     0\n",
       "29731    0     0     0\n",
       "29732    0     0     0\n",
       "29733    0     0     0\n",
       "29734    0     0     0\n",
       "\n",
       "[29735 rows x 3 columns]"
      ]
     },
     "execution_count": 5,
     "metadata": {},
     "output_type": "execute_result"
    }
   ],
   "source": [
    "X1 = pd.get_dummies(all_flights['Type']).drop(columns=['None'])\n",
    "\n",
    "X1"
   ]
  },
  {
   "cell_type": "code",
   "execution_count": 25,
   "metadata": {},
   "outputs": [],
   "source": [
    "# 'Type' in X\n",
    "\n",
    "X_tv, X_test, y_tv, y_test = train_test_split(X1, y, test_size=0.20)"
   ]
  },
  {
   "cell_type": "markdown",
   "metadata": {},
   "source": [
    "#### Adjust Class Weights"
   ]
  },
  {
   "cell_type": "code",
   "execution_count": 26,
   "metadata": {},
   "outputs": [
    {
     "data": {
      "text/plain": [
       "0.7892494815313043"
      ]
     },
     "execution_count": 26,
     "metadata": {},
     "output_type": "execute_result"
    }
   ],
   "source": [
    "X_train, X_val, y_train, y_val = train_test_split(X_tv, y_tv, test_size=0.25)\n",
    "\n",
    "lr_type = LogisticRegression(class_weight='balanced').fit(X_train,y_train)\n",
    "\n",
    "f1_score(y_train, lr_type.predict(X_train)) # 0.215\n",
    "accuracy_score(y_train, lr_type.predict(X_train)) # 0.790"
   ]
  },
  {
   "cell_type": "code",
   "execution_count": 8,
   "metadata": {},
   "outputs": [
    {
     "data": {
      "text/plain": [
       "array([0.24749164, 0.25903614, 0.16718266, 0.21752266, 0.22018349])"
      ]
     },
     "execution_count": 8,
     "metadata": {},
     "output_type": "execute_result"
    }
   ],
   "source": [
    "cross_val_score(lr_type, X_val, y_val, cv=5, scoring='f1')"
   ]
  },
  {
   "cell_type": "code",
   "execution_count": 10,
   "metadata": {},
   "outputs": [
    {
     "data": {
      "text/plain": [
       "array([[13552,  1372],\n",
       "       [ 2456,   461]])"
      ]
     },
     "execution_count": 10,
     "metadata": {},
     "output_type": "execute_result"
    }
   ],
   "source": [
    "confusion_matrix(y_train, lr_type.predict(X_train))\n",
    "\n",
    "'''\n",
    "         pred\n",
    "        |  0  |  1 |\n",
    "     ___________________\n",
    "true  0 |  TN | FP |\n",
    "      1 |  FN | TP |\n",
    "'''"
   ]
  },
  {
   "cell_type": "markdown",
   "metadata": {},
   "source": [
    "#### Oversampling"
   ]
  },
  {
   "cell_type": "code",
   "execution_count": 11,
   "metadata": {},
   "outputs": [
    {
     "data": {
      "text/plain": [
       "0    24892\n",
       "1     4843\n",
       "Name: arrdel15, dtype: int64"
      ]
     },
     "execution_count": 11,
     "metadata": {},
     "output_type": "execute_result"
    }
   ],
   "source": [
    "y.value_counts()"
   ]
  },
  {
   "cell_type": "code",
   "execution_count": 5,
   "metadata": {},
   "outputs": [],
   "source": [
    "adj = RandomOverSampler(sampling_strategy = {1: np.sum(y_tv==1)*4, 0: np.sum(y_tv==0)})"
   ]
  },
  {
   "cell_type": "code",
   "execution_count": null,
   "metadata": {},
   "outputs": [],
   "source": [
    "X_train_adj, y_train_adj = adj.fit_sample(X_train, y_train)"
   ]
  },
  {
   "cell_type": "code",
   "execution_count": 30,
   "metadata": {
    "scrolled": true
   },
   "outputs": [
    {
     "name": "stderr",
     "output_type": "stream",
     "text": [
      "/Users/wasilaq/opt/anaconda3/envs/metis/lib/python3.7/site-packages/imblearn/utils/_validation.py:324: UserWarning: After over-sampling, the number of samples (15560) in class 1 will be larger than the number of samples in the majority class (class #0 -> 14916)\n",
      "  n_samples_majority,\n",
      "/Users/wasilaq/opt/anaconda3/envs/metis/lib/python3.7/site-packages/imblearn/utils/_validation.py:324: UserWarning: After over-sampling, the number of samples (19898) in class 0 will be larger than the number of samples in the majority class (class #0 -> 14916)\n",
      "  n_samples_majority,\n"
     ]
    },
    {
     "data": {
      "text/plain": [
       "0.5874837836313385"
      ]
     },
     "execution_count": 30,
     "metadata": {},
     "output_type": "execute_result"
    }
   ],
   "source": [
    "lr_type = LogisticRegression().fit(X_train_adj,y_train_adj)\n",
    "\n",
    "f1_score(y_train_adj, lr_type.predict(X_train_adj)) # 0.262\n",
    "accuracy_score(y_train_adj, lr_type.predict(X_train_adj)) # 0.591"
   ]
  },
  {
   "cell_type": "code",
   "execution_count": 34,
   "metadata": {},
   "outputs": [
    {
     "data": {
      "text/plain": [
       "array([0.04040404, 0.06896552, 0.04060914, 0.06965174, 0.05050505])"
      ]
     },
     "execution_count": 34,
     "metadata": {},
     "output_type": "execute_result"
    }
   ],
   "source": [
    "cross_val_score(lr_type, X_val, y_val, cv=5, scoring='f1')"
   ]
  },
  {
   "cell_type": "code",
   "execution_count": 32,
   "metadata": {},
   "outputs": [
    {
     "data": {
      "text/plain": [
       "array([[18098,  1800],\n",
       "       [12827,  2733]])"
      ]
     },
     "execution_count": 32,
     "metadata": {},
     "output_type": "execute_result"
    }
   ],
   "source": [
    "confusion_matrix(y_train_adj, lr_type.predict(X_train_adj))\n",
    "\n",
    "'''\n",
    "         pred\n",
    "        |  0  |  1 |\n",
    "     ___________________\n",
    "true  0 |  TN | FP |\n",
    "      1 |  FN | TP |\n",
    "'''"
   ]
  },
  {
   "cell_type": "markdown",
   "metadata": {},
   "source": [
    "### Features: Type, operating_airline"
   ]
  },
  {
   "cell_type": "code",
   "execution_count": 33,
   "metadata": {},
   "outputs": [
    {
     "data": {
      "text/html": [
       "<div>\n",
       "<style scoped>\n",
       "    .dataframe tbody tr th:only-of-type {\n",
       "        vertical-align: middle;\n",
       "    }\n",
       "\n",
       "    .dataframe tbody tr th {\n",
       "        vertical-align: top;\n",
       "    }\n",
       "\n",
       "    .dataframe thead th {\n",
       "        text-align: right;\n",
       "    }\n",
       "</style>\n",
       "<table border=\"1\" class=\"dataframe\">\n",
       "  <thead>\n",
       "    <tr style=\"text-align: right;\">\n",
       "      <th></th>\n",
       "      <th>Type_Fog</th>\n",
       "      <th>Type_Rain</th>\n",
       "      <th>Type_Snow</th>\n",
       "      <th>operating_airline_9E</th>\n",
       "      <th>operating_airline_AA</th>\n",
       "      <th>operating_airline_B6</th>\n",
       "      <th>operating_airline_DL</th>\n",
       "      <th>operating_airline_EV</th>\n",
       "      <th>operating_airline_F9</th>\n",
       "      <th>operating_airline_G7</th>\n",
       "      <th>operating_airline_MQ</th>\n",
       "      <th>operating_airline_NK</th>\n",
       "      <th>operating_airline_OH</th>\n",
       "      <th>operating_airline_OO</th>\n",
       "      <th>operating_airline_UA</th>\n",
       "      <th>operating_airline_WN</th>\n",
       "      <th>operating_airline_YV</th>\n",
       "      <th>operating_airline_YX</th>\n",
       "    </tr>\n",
       "  </thead>\n",
       "  <tbody>\n",
       "    <tr>\n",
       "      <th>0</th>\n",
       "      <td>0</td>\n",
       "      <td>0</td>\n",
       "      <td>0</td>\n",
       "      <td>0</td>\n",
       "      <td>0</td>\n",
       "      <td>0</td>\n",
       "      <td>0</td>\n",
       "      <td>0</td>\n",
       "      <td>0</td>\n",
       "      <td>0</td>\n",
       "      <td>0</td>\n",
       "      <td>0</td>\n",
       "      <td>0</td>\n",
       "      <td>0</td>\n",
       "      <td>1</td>\n",
       "      <td>0</td>\n",
       "      <td>0</td>\n",
       "      <td>0</td>\n",
       "    </tr>\n",
       "    <tr>\n",
       "      <th>1</th>\n",
       "      <td>0</td>\n",
       "      <td>0</td>\n",
       "      <td>0</td>\n",
       "      <td>0</td>\n",
       "      <td>0</td>\n",
       "      <td>0</td>\n",
       "      <td>0</td>\n",
       "      <td>0</td>\n",
       "      <td>0</td>\n",
       "      <td>0</td>\n",
       "      <td>0</td>\n",
       "      <td>0</td>\n",
       "      <td>0</td>\n",
       "      <td>0</td>\n",
       "      <td>1</td>\n",
       "      <td>0</td>\n",
       "      <td>0</td>\n",
       "      <td>0</td>\n",
       "    </tr>\n",
       "    <tr>\n",
       "      <th>2</th>\n",
       "      <td>0</td>\n",
       "      <td>0</td>\n",
       "      <td>0</td>\n",
       "      <td>0</td>\n",
       "      <td>0</td>\n",
       "      <td>0</td>\n",
       "      <td>0</td>\n",
       "      <td>0</td>\n",
       "      <td>0</td>\n",
       "      <td>0</td>\n",
       "      <td>0</td>\n",
       "      <td>0</td>\n",
       "      <td>0</td>\n",
       "      <td>0</td>\n",
       "      <td>1</td>\n",
       "      <td>0</td>\n",
       "      <td>0</td>\n",
       "      <td>0</td>\n",
       "    </tr>\n",
       "    <tr>\n",
       "      <th>3</th>\n",
       "      <td>0</td>\n",
       "      <td>1</td>\n",
       "      <td>0</td>\n",
       "      <td>0</td>\n",
       "      <td>0</td>\n",
       "      <td>0</td>\n",
       "      <td>0</td>\n",
       "      <td>0</td>\n",
       "      <td>0</td>\n",
       "      <td>0</td>\n",
       "      <td>0</td>\n",
       "      <td>0</td>\n",
       "      <td>0</td>\n",
       "      <td>0</td>\n",
       "      <td>1</td>\n",
       "      <td>0</td>\n",
       "      <td>0</td>\n",
       "      <td>0</td>\n",
       "    </tr>\n",
       "    <tr>\n",
       "      <th>4</th>\n",
       "      <td>0</td>\n",
       "      <td>0</td>\n",
       "      <td>0</td>\n",
       "      <td>0</td>\n",
       "      <td>0</td>\n",
       "      <td>0</td>\n",
       "      <td>0</td>\n",
       "      <td>0</td>\n",
       "      <td>0</td>\n",
       "      <td>0</td>\n",
       "      <td>0</td>\n",
       "      <td>0</td>\n",
       "      <td>0</td>\n",
       "      <td>0</td>\n",
       "      <td>1</td>\n",
       "      <td>0</td>\n",
       "      <td>0</td>\n",
       "      <td>0</td>\n",
       "    </tr>\n",
       "    <tr>\n",
       "      <th>...</th>\n",
       "      <td>...</td>\n",
       "      <td>...</td>\n",
       "      <td>...</td>\n",
       "      <td>...</td>\n",
       "      <td>...</td>\n",
       "      <td>...</td>\n",
       "      <td>...</td>\n",
       "      <td>...</td>\n",
       "      <td>...</td>\n",
       "      <td>...</td>\n",
       "      <td>...</td>\n",
       "      <td>...</td>\n",
       "      <td>...</td>\n",
       "      <td>...</td>\n",
       "      <td>...</td>\n",
       "      <td>...</td>\n",
       "      <td>...</td>\n",
       "      <td>...</td>\n",
       "    </tr>\n",
       "    <tr>\n",
       "      <th>29730</th>\n",
       "      <td>0</td>\n",
       "      <td>0</td>\n",
       "      <td>0</td>\n",
       "      <td>0</td>\n",
       "      <td>0</td>\n",
       "      <td>0</td>\n",
       "      <td>0</td>\n",
       "      <td>0</td>\n",
       "      <td>0</td>\n",
       "      <td>0</td>\n",
       "      <td>0</td>\n",
       "      <td>0</td>\n",
       "      <td>0</td>\n",
       "      <td>0</td>\n",
       "      <td>1</td>\n",
       "      <td>0</td>\n",
       "      <td>0</td>\n",
       "      <td>0</td>\n",
       "    </tr>\n",
       "    <tr>\n",
       "      <th>29731</th>\n",
       "      <td>0</td>\n",
       "      <td>0</td>\n",
       "      <td>0</td>\n",
       "      <td>0</td>\n",
       "      <td>0</td>\n",
       "      <td>0</td>\n",
       "      <td>0</td>\n",
       "      <td>0</td>\n",
       "      <td>0</td>\n",
       "      <td>0</td>\n",
       "      <td>0</td>\n",
       "      <td>0</td>\n",
       "      <td>0</td>\n",
       "      <td>0</td>\n",
       "      <td>1</td>\n",
       "      <td>0</td>\n",
       "      <td>0</td>\n",
       "      <td>0</td>\n",
       "    </tr>\n",
       "    <tr>\n",
       "      <th>29732</th>\n",
       "      <td>0</td>\n",
       "      <td>0</td>\n",
       "      <td>0</td>\n",
       "      <td>0</td>\n",
       "      <td>0</td>\n",
       "      <td>0</td>\n",
       "      <td>0</td>\n",
       "      <td>0</td>\n",
       "      <td>0</td>\n",
       "      <td>0</td>\n",
       "      <td>0</td>\n",
       "      <td>0</td>\n",
       "      <td>0</td>\n",
       "      <td>0</td>\n",
       "      <td>1</td>\n",
       "      <td>0</td>\n",
       "      <td>0</td>\n",
       "      <td>0</td>\n",
       "    </tr>\n",
       "    <tr>\n",
       "      <th>29733</th>\n",
       "      <td>0</td>\n",
       "      <td>0</td>\n",
       "      <td>0</td>\n",
       "      <td>0</td>\n",
       "      <td>0</td>\n",
       "      <td>0</td>\n",
       "      <td>0</td>\n",
       "      <td>0</td>\n",
       "      <td>0</td>\n",
       "      <td>0</td>\n",
       "      <td>0</td>\n",
       "      <td>0</td>\n",
       "      <td>0</td>\n",
       "      <td>0</td>\n",
       "      <td>1</td>\n",
       "      <td>0</td>\n",
       "      <td>0</td>\n",
       "      <td>0</td>\n",
       "    </tr>\n",
       "    <tr>\n",
       "      <th>29734</th>\n",
       "      <td>0</td>\n",
       "      <td>0</td>\n",
       "      <td>0</td>\n",
       "      <td>0</td>\n",
       "      <td>0</td>\n",
       "      <td>0</td>\n",
       "      <td>0</td>\n",
       "      <td>0</td>\n",
       "      <td>0</td>\n",
       "      <td>0</td>\n",
       "      <td>0</td>\n",
       "      <td>0</td>\n",
       "      <td>0</td>\n",
       "      <td>0</td>\n",
       "      <td>1</td>\n",
       "      <td>0</td>\n",
       "      <td>0</td>\n",
       "      <td>0</td>\n",
       "    </tr>\n",
       "  </tbody>\n",
       "</table>\n",
       "<p>29735 rows × 18 columns</p>\n",
       "</div>"
      ],
      "text/plain": [
       "       Type_Fog  Type_Rain  Type_Snow  operating_airline_9E  \\\n",
       "0             0          0          0                     0   \n",
       "1             0          0          0                     0   \n",
       "2             0          0          0                     0   \n",
       "3             0          1          0                     0   \n",
       "4             0          0          0                     0   \n",
       "...         ...        ...        ...                   ...   \n",
       "29730         0          0          0                     0   \n",
       "29731         0          0          0                     0   \n",
       "29732         0          0          0                     0   \n",
       "29733         0          0          0                     0   \n",
       "29734         0          0          0                     0   \n",
       "\n",
       "       operating_airline_AA  operating_airline_B6  operating_airline_DL  \\\n",
       "0                         0                     0                     0   \n",
       "1                         0                     0                     0   \n",
       "2                         0                     0                     0   \n",
       "3                         0                     0                     0   \n",
       "4                         0                     0                     0   \n",
       "...                     ...                   ...                   ...   \n",
       "29730                     0                     0                     0   \n",
       "29731                     0                     0                     0   \n",
       "29732                     0                     0                     0   \n",
       "29733                     0                     0                     0   \n",
       "29734                     0                     0                     0   \n",
       "\n",
       "       operating_airline_EV  operating_airline_F9  operating_airline_G7  \\\n",
       "0                         0                     0                     0   \n",
       "1                         0                     0                     0   \n",
       "2                         0                     0                     0   \n",
       "3                         0                     0                     0   \n",
       "4                         0                     0                     0   \n",
       "...                     ...                   ...                   ...   \n",
       "29730                     0                     0                     0   \n",
       "29731                     0                     0                     0   \n",
       "29732                     0                     0                     0   \n",
       "29733                     0                     0                     0   \n",
       "29734                     0                     0                     0   \n",
       "\n",
       "       operating_airline_MQ  operating_airline_NK  operating_airline_OH  \\\n",
       "0                         0                     0                     0   \n",
       "1                         0                     0                     0   \n",
       "2                         0                     0                     0   \n",
       "3                         0                     0                     0   \n",
       "4                         0                     0                     0   \n",
       "...                     ...                   ...                   ...   \n",
       "29730                     0                     0                     0   \n",
       "29731                     0                     0                     0   \n",
       "29732                     0                     0                     0   \n",
       "29733                     0                     0                     0   \n",
       "29734                     0                     0                     0   \n",
       "\n",
       "       operating_airline_OO  operating_airline_UA  operating_airline_WN  \\\n",
       "0                         0                     1                     0   \n",
       "1                         0                     1                     0   \n",
       "2                         0                     1                     0   \n",
       "3                         0                     1                     0   \n",
       "4                         0                     1                     0   \n",
       "...                     ...                   ...                   ...   \n",
       "29730                     0                     1                     0   \n",
       "29731                     0                     1                     0   \n",
       "29732                     0                     1                     0   \n",
       "29733                     0                     1                     0   \n",
       "29734                     0                     1                     0   \n",
       "\n",
       "       operating_airline_YV  operating_airline_YX  \n",
       "0                         0                     0  \n",
       "1                         0                     0  \n",
       "2                         0                     0  \n",
       "3                         0                     0  \n",
       "4                         0                     0  \n",
       "...                     ...                   ...  \n",
       "29730                     0                     0  \n",
       "29731                     0                     0  \n",
       "29732                     0                     0  \n",
       "29733                     0                     0  \n",
       "29734                     0                     0  \n",
       "\n",
       "[29735 rows x 18 columns]"
      ]
     },
     "execution_count": 33,
     "metadata": {},
     "output_type": "execute_result"
    }
   ],
   "source": [
    "X2 = pd.get_dummies(all_flights[['Type','operating_airline']]).drop(\n",
    "    columns=['Type_None','operating_airline_AS']\n",
    ")\n",
    "\n",
    "X2"
   ]
  },
  {
   "cell_type": "code",
   "execution_count": 35,
   "metadata": {},
   "outputs": [
    {
     "name": "stderr",
     "output_type": "stream",
     "text": [
      "/Users/wasilaq/opt/anaconda3/envs/metis/lib/python3.7/site-packages/imblearn/utils/_validation.py:324: UserWarning: After over-sampling, the number of samples (15560) in class 1 will be larger than the number of samples in the majority class (class #0 -> 14960)\n",
      "  n_samples_majority,\n",
      "/Users/wasilaq/opt/anaconda3/envs/metis/lib/python3.7/site-packages/imblearn/utils/_validation.py:324: UserWarning: After over-sampling, the number of samples (19898) in class 0 will be larger than the number of samples in the majority class (class #0 -> 14960)\n",
      "  n_samples_majority,\n"
     ]
    },
    {
     "data": {
      "text/plain": [
       "0.3496923871694923"
      ]
     },
     "execution_count": 35,
     "metadata": {},
     "output_type": "execute_result"
    }
   ],
   "source": [
    "X_tv, X_test, y_tv, y_test = train_test_split(X2, y, test_size=0.20)\n",
    "X_train, X_val, y_train, y_val = train_test_split(X_tv, y_tv, test_size=0.25)\n",
    "\n",
    "X_train_adj, y_train_adj = adj.fit_sample(X_train, y_train)\n",
    "\n",
    "lr_2 = LogisticRegression().fit(X_train_adj, y_train_adj)\n",
    "\n",
    "f1_score(y_train_adj, lr_2.predict(X_train_adj)) # 0.3585\n",
    "#accuracy_score(y_train_adj, lr_2.predict(X_train_adj)) # 0.6083"
   ]
  },
  {
   "cell_type": "code",
   "execution_count": 36,
   "metadata": {},
   "outputs": [
    {
     "data": {
      "text/plain": [
       "array([0.04040404, 0.06896552, 0.04      , 0.06896552, 0.07881773])"
      ]
     },
     "execution_count": 36,
     "metadata": {},
     "output_type": "execute_result"
    }
   ],
   "source": [
    "cross_val_score(lr_2, X_val, y_val, cv=5, scoring='f1')"
   ]
  },
  {
   "cell_type": "markdown",
   "metadata": {},
   "source": [
    "### Features: Type, marketing_airline_network, operating_airline"
   ]
  },
  {
   "cell_type": "code",
   "execution_count": 37,
   "metadata": {
    "scrolled": true
   },
   "outputs": [
    {
     "data": {
      "text/html": [
       "<div>\n",
       "<style scoped>\n",
       "    .dataframe tbody tr th:only-of-type {\n",
       "        vertical-align: middle;\n",
       "    }\n",
       "\n",
       "    .dataframe tbody tr th {\n",
       "        vertical-align: top;\n",
       "    }\n",
       "\n",
       "    .dataframe thead th {\n",
       "        text-align: right;\n",
       "    }\n",
       "</style>\n",
       "<table border=\"1\" class=\"dataframe\">\n",
       "  <thead>\n",
       "    <tr style=\"text-align: right;\">\n",
       "      <th></th>\n",
       "      <th>Type_Fog</th>\n",
       "      <th>Type_Rain</th>\n",
       "      <th>Type_Snow</th>\n",
       "      <th>marketing_airline_network_AA</th>\n",
       "      <th>marketing_airline_network_B6</th>\n",
       "      <th>marketing_airline_network_DL</th>\n",
       "      <th>marketing_airline_network_F9</th>\n",
       "      <th>marketing_airline_network_NK</th>\n",
       "      <th>marketing_airline_network_UA</th>\n",
       "      <th>marketing_airline_network_WN</th>\n",
       "      <th>...</th>\n",
       "      <th>operating_airline_F9</th>\n",
       "      <th>operating_airline_G7</th>\n",
       "      <th>operating_airline_MQ</th>\n",
       "      <th>operating_airline_NK</th>\n",
       "      <th>operating_airline_OH</th>\n",
       "      <th>operating_airline_OO</th>\n",
       "      <th>operating_airline_UA</th>\n",
       "      <th>operating_airline_WN</th>\n",
       "      <th>operating_airline_YV</th>\n",
       "      <th>operating_airline_YX</th>\n",
       "    </tr>\n",
       "  </thead>\n",
       "  <tbody>\n",
       "    <tr>\n",
       "      <th>0</th>\n",
       "      <td>0</td>\n",
       "      <td>0</td>\n",
       "      <td>0</td>\n",
       "      <td>0</td>\n",
       "      <td>0</td>\n",
       "      <td>0</td>\n",
       "      <td>0</td>\n",
       "      <td>0</td>\n",
       "      <td>1</td>\n",
       "      <td>0</td>\n",
       "      <td>...</td>\n",
       "      <td>0</td>\n",
       "      <td>0</td>\n",
       "      <td>0</td>\n",
       "      <td>0</td>\n",
       "      <td>0</td>\n",
       "      <td>0</td>\n",
       "      <td>1</td>\n",
       "      <td>0</td>\n",
       "      <td>0</td>\n",
       "      <td>0</td>\n",
       "    </tr>\n",
       "    <tr>\n",
       "      <th>1</th>\n",
       "      <td>0</td>\n",
       "      <td>0</td>\n",
       "      <td>0</td>\n",
       "      <td>0</td>\n",
       "      <td>0</td>\n",
       "      <td>0</td>\n",
       "      <td>0</td>\n",
       "      <td>0</td>\n",
       "      <td>1</td>\n",
       "      <td>0</td>\n",
       "      <td>...</td>\n",
       "      <td>0</td>\n",
       "      <td>0</td>\n",
       "      <td>0</td>\n",
       "      <td>0</td>\n",
       "      <td>0</td>\n",
       "      <td>0</td>\n",
       "      <td>1</td>\n",
       "      <td>0</td>\n",
       "      <td>0</td>\n",
       "      <td>0</td>\n",
       "    </tr>\n",
       "    <tr>\n",
       "      <th>2</th>\n",
       "      <td>0</td>\n",
       "      <td>0</td>\n",
       "      <td>0</td>\n",
       "      <td>0</td>\n",
       "      <td>0</td>\n",
       "      <td>0</td>\n",
       "      <td>0</td>\n",
       "      <td>0</td>\n",
       "      <td>1</td>\n",
       "      <td>0</td>\n",
       "      <td>...</td>\n",
       "      <td>0</td>\n",
       "      <td>0</td>\n",
       "      <td>0</td>\n",
       "      <td>0</td>\n",
       "      <td>0</td>\n",
       "      <td>0</td>\n",
       "      <td>1</td>\n",
       "      <td>0</td>\n",
       "      <td>0</td>\n",
       "      <td>0</td>\n",
       "    </tr>\n",
       "    <tr>\n",
       "      <th>3</th>\n",
       "      <td>0</td>\n",
       "      <td>1</td>\n",
       "      <td>0</td>\n",
       "      <td>0</td>\n",
       "      <td>0</td>\n",
       "      <td>0</td>\n",
       "      <td>0</td>\n",
       "      <td>0</td>\n",
       "      <td>1</td>\n",
       "      <td>0</td>\n",
       "      <td>...</td>\n",
       "      <td>0</td>\n",
       "      <td>0</td>\n",
       "      <td>0</td>\n",
       "      <td>0</td>\n",
       "      <td>0</td>\n",
       "      <td>0</td>\n",
       "      <td>1</td>\n",
       "      <td>0</td>\n",
       "      <td>0</td>\n",
       "      <td>0</td>\n",
       "    </tr>\n",
       "    <tr>\n",
       "      <th>4</th>\n",
       "      <td>0</td>\n",
       "      <td>0</td>\n",
       "      <td>0</td>\n",
       "      <td>0</td>\n",
       "      <td>0</td>\n",
       "      <td>0</td>\n",
       "      <td>0</td>\n",
       "      <td>0</td>\n",
       "      <td>1</td>\n",
       "      <td>0</td>\n",
       "      <td>...</td>\n",
       "      <td>0</td>\n",
       "      <td>0</td>\n",
       "      <td>0</td>\n",
       "      <td>0</td>\n",
       "      <td>0</td>\n",
       "      <td>0</td>\n",
       "      <td>1</td>\n",
       "      <td>0</td>\n",
       "      <td>0</td>\n",
       "      <td>0</td>\n",
       "    </tr>\n",
       "    <tr>\n",
       "      <th>...</th>\n",
       "      <td>...</td>\n",
       "      <td>...</td>\n",
       "      <td>...</td>\n",
       "      <td>...</td>\n",
       "      <td>...</td>\n",
       "      <td>...</td>\n",
       "      <td>...</td>\n",
       "      <td>...</td>\n",
       "      <td>...</td>\n",
       "      <td>...</td>\n",
       "      <td>...</td>\n",
       "      <td>...</td>\n",
       "      <td>...</td>\n",
       "      <td>...</td>\n",
       "      <td>...</td>\n",
       "      <td>...</td>\n",
       "      <td>...</td>\n",
       "      <td>...</td>\n",
       "      <td>...</td>\n",
       "      <td>...</td>\n",
       "      <td>...</td>\n",
       "    </tr>\n",
       "    <tr>\n",
       "      <th>29730</th>\n",
       "      <td>0</td>\n",
       "      <td>0</td>\n",
       "      <td>0</td>\n",
       "      <td>0</td>\n",
       "      <td>0</td>\n",
       "      <td>0</td>\n",
       "      <td>0</td>\n",
       "      <td>0</td>\n",
       "      <td>1</td>\n",
       "      <td>0</td>\n",
       "      <td>...</td>\n",
       "      <td>0</td>\n",
       "      <td>0</td>\n",
       "      <td>0</td>\n",
       "      <td>0</td>\n",
       "      <td>0</td>\n",
       "      <td>0</td>\n",
       "      <td>1</td>\n",
       "      <td>0</td>\n",
       "      <td>0</td>\n",
       "      <td>0</td>\n",
       "    </tr>\n",
       "    <tr>\n",
       "      <th>29731</th>\n",
       "      <td>0</td>\n",
       "      <td>0</td>\n",
       "      <td>0</td>\n",
       "      <td>0</td>\n",
       "      <td>0</td>\n",
       "      <td>0</td>\n",
       "      <td>0</td>\n",
       "      <td>0</td>\n",
       "      <td>1</td>\n",
       "      <td>0</td>\n",
       "      <td>...</td>\n",
       "      <td>0</td>\n",
       "      <td>0</td>\n",
       "      <td>0</td>\n",
       "      <td>0</td>\n",
       "      <td>0</td>\n",
       "      <td>0</td>\n",
       "      <td>1</td>\n",
       "      <td>0</td>\n",
       "      <td>0</td>\n",
       "      <td>0</td>\n",
       "    </tr>\n",
       "    <tr>\n",
       "      <th>29732</th>\n",
       "      <td>0</td>\n",
       "      <td>0</td>\n",
       "      <td>0</td>\n",
       "      <td>0</td>\n",
       "      <td>0</td>\n",
       "      <td>0</td>\n",
       "      <td>0</td>\n",
       "      <td>0</td>\n",
       "      <td>1</td>\n",
       "      <td>0</td>\n",
       "      <td>...</td>\n",
       "      <td>0</td>\n",
       "      <td>0</td>\n",
       "      <td>0</td>\n",
       "      <td>0</td>\n",
       "      <td>0</td>\n",
       "      <td>0</td>\n",
       "      <td>1</td>\n",
       "      <td>0</td>\n",
       "      <td>0</td>\n",
       "      <td>0</td>\n",
       "    </tr>\n",
       "    <tr>\n",
       "      <th>29733</th>\n",
       "      <td>0</td>\n",
       "      <td>0</td>\n",
       "      <td>0</td>\n",
       "      <td>0</td>\n",
       "      <td>0</td>\n",
       "      <td>0</td>\n",
       "      <td>0</td>\n",
       "      <td>0</td>\n",
       "      <td>1</td>\n",
       "      <td>0</td>\n",
       "      <td>...</td>\n",
       "      <td>0</td>\n",
       "      <td>0</td>\n",
       "      <td>0</td>\n",
       "      <td>0</td>\n",
       "      <td>0</td>\n",
       "      <td>0</td>\n",
       "      <td>1</td>\n",
       "      <td>0</td>\n",
       "      <td>0</td>\n",
       "      <td>0</td>\n",
       "    </tr>\n",
       "    <tr>\n",
       "      <th>29734</th>\n",
       "      <td>0</td>\n",
       "      <td>0</td>\n",
       "      <td>0</td>\n",
       "      <td>0</td>\n",
       "      <td>0</td>\n",
       "      <td>0</td>\n",
       "      <td>0</td>\n",
       "      <td>0</td>\n",
       "      <td>1</td>\n",
       "      <td>0</td>\n",
       "      <td>...</td>\n",
       "      <td>0</td>\n",
       "      <td>0</td>\n",
       "      <td>0</td>\n",
       "      <td>0</td>\n",
       "      <td>0</td>\n",
       "      <td>0</td>\n",
       "      <td>1</td>\n",
       "      <td>0</td>\n",
       "      <td>0</td>\n",
       "      <td>0</td>\n",
       "    </tr>\n",
       "  </tbody>\n",
       "</table>\n",
       "<p>29735 rows × 25 columns</p>\n",
       "</div>"
      ],
      "text/plain": [
       "       Type_Fog  Type_Rain  Type_Snow  marketing_airline_network_AA  \\\n",
       "0             0          0          0                             0   \n",
       "1             0          0          0                             0   \n",
       "2             0          0          0                             0   \n",
       "3             0          1          0                             0   \n",
       "4             0          0          0                             0   \n",
       "...         ...        ...        ...                           ...   \n",
       "29730         0          0          0                             0   \n",
       "29731         0          0          0                             0   \n",
       "29732         0          0          0                             0   \n",
       "29733         0          0          0                             0   \n",
       "29734         0          0          0                             0   \n",
       "\n",
       "       marketing_airline_network_B6  marketing_airline_network_DL  \\\n",
       "0                                 0                             0   \n",
       "1                                 0                             0   \n",
       "2                                 0                             0   \n",
       "3                                 0                             0   \n",
       "4                                 0                             0   \n",
       "...                             ...                           ...   \n",
       "29730                             0                             0   \n",
       "29731                             0                             0   \n",
       "29732                             0                             0   \n",
       "29733                             0                             0   \n",
       "29734                             0                             0   \n",
       "\n",
       "       marketing_airline_network_F9  marketing_airline_network_NK  \\\n",
       "0                                 0                             0   \n",
       "1                                 0                             0   \n",
       "2                                 0                             0   \n",
       "3                                 0                             0   \n",
       "4                                 0                             0   \n",
       "...                             ...                           ...   \n",
       "29730                             0                             0   \n",
       "29731                             0                             0   \n",
       "29732                             0                             0   \n",
       "29733                             0                             0   \n",
       "29734                             0                             0   \n",
       "\n",
       "       marketing_airline_network_UA  marketing_airline_network_WN  ...  \\\n",
       "0                                 1                             0  ...   \n",
       "1                                 1                             0  ...   \n",
       "2                                 1                             0  ...   \n",
       "3                                 1                             0  ...   \n",
       "4                                 1                             0  ...   \n",
       "...                             ...                           ...  ...   \n",
       "29730                             1                             0  ...   \n",
       "29731                             1                             0  ...   \n",
       "29732                             1                             0  ...   \n",
       "29733                             1                             0  ...   \n",
       "29734                             1                             0  ...   \n",
       "\n",
       "       operating_airline_F9  operating_airline_G7  operating_airline_MQ  \\\n",
       "0                         0                     0                     0   \n",
       "1                         0                     0                     0   \n",
       "2                         0                     0                     0   \n",
       "3                         0                     0                     0   \n",
       "4                         0                     0                     0   \n",
       "...                     ...                   ...                   ...   \n",
       "29730                     0                     0                     0   \n",
       "29731                     0                     0                     0   \n",
       "29732                     0                     0                     0   \n",
       "29733                     0                     0                     0   \n",
       "29734                     0                     0                     0   \n",
       "\n",
       "       operating_airline_NK  operating_airline_OH  operating_airline_OO  \\\n",
       "0                         0                     0                     0   \n",
       "1                         0                     0                     0   \n",
       "2                         0                     0                     0   \n",
       "3                         0                     0                     0   \n",
       "4                         0                     0                     0   \n",
       "...                     ...                   ...                   ...   \n",
       "29730                     0                     0                     0   \n",
       "29731                     0                     0                     0   \n",
       "29732                     0                     0                     0   \n",
       "29733                     0                     0                     0   \n",
       "29734                     0                     0                     0   \n",
       "\n",
       "       operating_airline_UA  operating_airline_WN  operating_airline_YV  \\\n",
       "0                         1                     0                     0   \n",
       "1                         1                     0                     0   \n",
       "2                         1                     0                     0   \n",
       "3                         1                     0                     0   \n",
       "4                         1                     0                     0   \n",
       "...                     ...                   ...                   ...   \n",
       "29730                     1                     0                     0   \n",
       "29731                     1                     0                     0   \n",
       "29732                     1                     0                     0   \n",
       "29733                     1                     0                     0   \n",
       "29734                     1                     0                     0   \n",
       "\n",
       "       operating_airline_YX  \n",
       "0                         0  \n",
       "1                         0  \n",
       "2                         0  \n",
       "3                         0  \n",
       "4                         0  \n",
       "...                     ...  \n",
       "29730                     0  \n",
       "29731                     0  \n",
       "29732                     0  \n",
       "29733                     0  \n",
       "29734                     0  \n",
       "\n",
       "[29735 rows x 25 columns]"
      ]
     },
     "execution_count": 37,
     "metadata": {},
     "output_type": "execute_result"
    }
   ],
   "source": [
    "X3 = pd.get_dummies(all_flights[['Type','marketing_airline_network','operating_airline']]).drop(\n",
    "    columns=['Type_None','marketing_airline_network_AS','operating_airline_AS']\n",
    ")\n",
    "\n",
    "X3"
   ]
  },
  {
   "cell_type": "code",
   "execution_count": 41,
   "metadata": {},
   "outputs": [
    {
     "name": "stderr",
     "output_type": "stream",
     "text": [
      "/Users/wasilaq/opt/anaconda3/envs/metis/lib/python3.7/site-packages/imblearn/utils/_validation.py:324: UserWarning: After over-sampling, the number of samples (15560) in class 1 will be larger than the number of samples in the majority class (class #0 -> 14962)\n",
      "  n_samples_majority,\n",
      "/Users/wasilaq/opt/anaconda3/envs/metis/lib/python3.7/site-packages/imblearn/utils/_validation.py:324: UserWarning: After over-sampling, the number of samples (19898) in class 0 will be larger than the number of samples in the majority class (class #0 -> 14962)\n",
      "  n_samples_majority,\n"
     ]
    },
    {
     "data": {
      "text/plain": [
       "0.6053922951097073"
      ]
     },
     "execution_count": 41,
     "metadata": {},
     "output_type": "execute_result"
    }
   ],
   "source": [
    "X_tv, X_test, y_tv, y_test = train_test_split(X3, y, test_size=0.20)\n",
    "X_train, X_val, y_train, y_val = train_test_split(X_tv, y_tv, test_size=0.25)\n",
    "X_train_adj, y_train_adj = adj.fit_sample(X_train, y_train)\n",
    "\n",
    "lr_3 = LogisticRegression().fit(X_train_adj, y_train_adj)\n",
    "\n",
    "f1_score(y_train_adj, lr_3.predict(X_train_adj)) # 0.3621\n",
    "accuracy_score(y_train_adj, lr_3.predict(X_train_adj)) # 0.6093"
   ]
  },
  {
   "cell_type": "code",
   "execution_count": 39,
   "metadata": {},
   "outputs": [
    {
     "data": {
      "text/plain": [
       "array([0.09852217, 0.06030151, 0.08910891, 0.05825243, 0.03015075])"
      ]
     },
     "execution_count": 39,
     "metadata": {},
     "output_type": "execute_result"
    }
   ],
   "source": [
    "cross_val_score(lr_3, X_val, y_val, cv=5, scoring='f1')\n",
    "\n",
    "# better scores w/out marketing airline"
   ]
  },
  {
   "cell_type": "code",
   "execution_count": 43,
   "metadata": {},
   "outputs": [
    {
     "data": {
      "text/plain": [
       "array([[16234,  3664],\n",
       "       [10328,  5232]])"
      ]
     },
     "execution_count": 43,
     "metadata": {},
     "output_type": "execute_result"
    }
   ],
   "source": [
    "confusion_matrix(y_train_adj, lr_3.predict(X_train_adj))\n",
    "\n",
    "'''\n",
    "         pred\n",
    "        |  0  |  1 |\n",
    "     ___________________\n",
    "true  0 |  TN | FP |\n",
    "      1 |  FN | TP |\n",
    "'''"
   ]
  },
  {
   "cell_type": "markdown",
   "metadata": {},
   "source": [
    "# Model Comparison"
   ]
  },
  {
   "cell_type": "code",
   "execution_count": 15,
   "metadata": {},
   "outputs": [
    {
     "name": "stderr",
     "output_type": "stream",
     "text": [
      "/Users/wasilaq/opt/anaconda3/envs/metis/lib/python3.7/site-packages/imblearn/utils/_validation.py:324: UserWarning: After over-sampling, the number of samples (15372) in class 1 will be larger than the number of samples in the majority class (class #0 -> 14919)\n",
      "  n_samples_majority,\n",
      "/Users/wasilaq/opt/anaconda3/envs/metis/lib/python3.7/site-packages/imblearn/utils/_validation.py:324: UserWarning: After over-sampling, the number of samples (19945) in class 0 will be larger than the number of samples in the majority class (class #0 -> 14919)\n",
      "  n_samples_majority,\n"
     ]
    }
   ],
   "source": [
    "X_all = pd.get_dummies(all_flights[features+['dest']], drop_first=True)\n",
    "\n",
    "X_tv, X_test, y_tv, y_test = train_test_split(X_all, y, test_size=0.20)\n",
    "X_train, X_val, y_train, y_val = train_test_split(X_tv, y_tv, test_size=0.25)\n",
    "\n",
    "X_train_adj, y_train_adj = adj.fit_sample(X_train, y_train)"
   ]
  },
  {
   "cell_type": "markdown",
   "metadata": {},
   "source": [
    "### Logistic Regression"
   ]
  },
  {
   "cell_type": "code",
   "execution_count": 16,
   "metadata": {
    "scrolled": true
   },
   "outputs": [
    {
     "name": "stderr",
     "output_type": "stream",
     "text": [
      "/Users/wasilaq/opt/anaconda3/envs/metis/lib/python3.7/site-packages/sklearn/linear_model/_logistic.py:940: ConvergenceWarning: lbfgs failed to converge (status=1):\n",
      "STOP: TOTAL NO. of ITERATIONS REACHED LIMIT.\n",
      "\n",
      "Increase the number of iterations (max_iter) or scale the data as shown in:\n",
      "    https://scikit-learn.org/stable/modules/preprocessing.html\n",
      "Please also refer to the documentation for alternative solver options:\n",
      "    https://scikit-learn.org/stable/modules/linear_model.html#logistic-regression\n",
      "  extra_warning_msg=_LOGISTIC_SOLVER_CONVERGENCE_MSG)\n"
     ]
    },
    {
     "data": {
      "text/plain": [
       "0.46270795192231157"
      ]
     },
     "execution_count": 16,
     "metadata": {},
     "output_type": "execute_result"
    }
   ],
   "source": [
    "lr_all = LogisticRegression().fit(X_train_adj, y_train_adj)\n",
    "\n",
    "f1_score(y_train_adj, lr_all.predict(X_train_adj))"
   ]
  },
  {
   "cell_type": "code",
   "execution_count": 17,
   "metadata": {},
   "outputs": [
    {
     "data": {
      "text/plain": [
       "0.6491520918800445"
      ]
     },
     "execution_count": 17,
     "metadata": {},
     "output_type": "execute_result"
    }
   ],
   "source": [
    "roc_auc_score(y_train_adj, lr_all.predict_proba(X_train_adj)[:,1])"
   ]
  },
  {
   "cell_type": "code",
   "execution_count": 18,
   "metadata": {
    "scrolled": false
   },
   "outputs": [
    {
     "name": "stderr",
     "output_type": "stream",
     "text": [
      "/Users/wasilaq/opt/anaconda3/envs/metis/lib/python3.7/site-packages/sklearn/linear_model/_logistic.py:940: ConvergenceWarning: lbfgs failed to converge (status=1):\n",
      "STOP: TOTAL NO. of ITERATIONS REACHED LIMIT.\n",
      "\n",
      "Increase the number of iterations (max_iter) or scale the data as shown in:\n",
      "    https://scikit-learn.org/stable/modules/preprocessing.html\n",
      "Please also refer to the documentation for alternative solver options:\n",
      "    https://scikit-learn.org/stable/modules/linear_model.html#logistic-regression\n",
      "  extra_warning_msg=_LOGISTIC_SOLVER_CONVERGENCE_MSG)\n",
      "/Users/wasilaq/opt/anaconda3/envs/metis/lib/python3.7/site-packages/sklearn/linear_model/_logistic.py:940: ConvergenceWarning: lbfgs failed to converge (status=1):\n",
      "STOP: TOTAL NO. of ITERATIONS REACHED LIMIT.\n",
      "\n",
      "Increase the number of iterations (max_iter) or scale the data as shown in:\n",
      "    https://scikit-learn.org/stable/modules/preprocessing.html\n",
      "Please also refer to the documentation for alternative solver options:\n",
      "    https://scikit-learn.org/stable/modules/linear_model.html#logistic-regression\n",
      "  extra_warning_msg=_LOGISTIC_SOLVER_CONVERGENCE_MSG)\n",
      "/Users/wasilaq/opt/anaconda3/envs/metis/lib/python3.7/site-packages/sklearn/linear_model/_logistic.py:940: ConvergenceWarning: lbfgs failed to converge (status=1):\n",
      "STOP: TOTAL NO. of ITERATIONS REACHED LIMIT.\n",
      "\n",
      "Increase the number of iterations (max_iter) or scale the data as shown in:\n",
      "    https://scikit-learn.org/stable/modules/preprocessing.html\n",
      "Please also refer to the documentation for alternative solver options:\n",
      "    https://scikit-learn.org/stable/modules/linear_model.html#logistic-regression\n",
      "  extra_warning_msg=_LOGISTIC_SOLVER_CONVERGENCE_MSG)\n",
      "/Users/wasilaq/opt/anaconda3/envs/metis/lib/python3.7/site-packages/sklearn/linear_model/_logistic.py:940: ConvergenceWarning: lbfgs failed to converge (status=1):\n",
      "STOP: TOTAL NO. of ITERATIONS REACHED LIMIT.\n",
      "\n",
      "Increase the number of iterations (max_iter) or scale the data as shown in:\n",
      "    https://scikit-learn.org/stable/modules/preprocessing.html\n",
      "Please also refer to the documentation for alternative solver options:\n",
      "    https://scikit-learn.org/stable/modules/linear_model.html#logistic-regression\n",
      "  extra_warning_msg=_LOGISTIC_SOLVER_CONVERGENCE_MSG)\n",
      "/Users/wasilaq/opt/anaconda3/envs/metis/lib/python3.7/site-packages/sklearn/linear_model/_logistic.py:940: ConvergenceWarning: lbfgs failed to converge (status=1):\n",
      "STOP: TOTAL NO. of ITERATIONS REACHED LIMIT.\n",
      "\n",
      "Increase the number of iterations (max_iter) or scale the data as shown in:\n",
      "    https://scikit-learn.org/stable/modules/preprocessing.html\n",
      "Please also refer to the documentation for alternative solver options:\n",
      "    https://scikit-learn.org/stable/modules/linear_model.html#logistic-regression\n",
      "  extra_warning_msg=_LOGISTIC_SOLVER_CONVERGENCE_MSG)\n"
     ]
    },
    {
     "data": {
      "text/plain": [
       "array([0.60927458, 0.65211184, 0.60507952, 0.60827271, 0.62415519])"
      ]
     },
     "execution_count": 18,
     "metadata": {},
     "output_type": "execute_result"
    }
   ],
   "source": [
    "cross_val_score(lr_all, X_val, y_val, cv=5, scoring='roc_auc')"
   ]
  },
  {
   "cell_type": "code",
   "execution_count": 19,
   "metadata": {},
   "outputs": [
    {
     "name": "stderr",
     "output_type": "stream",
     "text": [
      "/Users/wasilaq/opt/anaconda3/envs/metis/lib/python3.7/site-packages/sklearn/linear_model/_logistic.py:940: ConvergenceWarning: lbfgs failed to converge (status=1):\n",
      "STOP: TOTAL NO. of ITERATIONS REACHED LIMIT.\n",
      "\n",
      "Increase the number of iterations (max_iter) or scale the data as shown in:\n",
      "    https://scikit-learn.org/stable/modules/preprocessing.html\n",
      "Please also refer to the documentation for alternative solver options:\n",
      "    https://scikit-learn.org/stable/modules/linear_model.html#logistic-regression\n",
      "  extra_warning_msg=_LOGISTIC_SOLVER_CONVERGENCE_MSG)\n"
     ]
    },
    {
     "data": {
      "text/plain": [
       "0.334398721534159"
      ]
     },
     "execution_count": 19,
     "metadata": {},
     "output_type": "execute_result"
    }
   ],
   "source": [
    "lr_all_cw = LogisticRegression(class_weight='balanced').fit(X_train, y_train)\n",
    "\n",
    "f1_score(y_train, lr_all_cw.predict(X_train))"
   ]
  },
  {
   "cell_type": "code",
   "execution_count": 20,
   "metadata": {},
   "outputs": [
    {
     "data": {
      "text/plain": [
       "0.6538412951269275"
      ]
     },
     "execution_count": 20,
     "metadata": {},
     "output_type": "execute_result"
    }
   ],
   "source": [
    "roc_auc_score(y_train, lr_all_cw.predict_proba(X_train)[:,1])"
   ]
  },
  {
   "cell_type": "code",
   "execution_count": 21,
   "metadata": {},
   "outputs": [
    {
     "name": "stderr",
     "output_type": "stream",
     "text": [
      "/Users/wasilaq/opt/anaconda3/envs/metis/lib/python3.7/site-packages/sklearn/linear_model/_logistic.py:940: ConvergenceWarning: lbfgs failed to converge (status=1):\n",
      "STOP: TOTAL NO. of ITERATIONS REACHED LIMIT.\n",
      "\n",
      "Increase the number of iterations (max_iter) or scale the data as shown in:\n",
      "    https://scikit-learn.org/stable/modules/preprocessing.html\n",
      "Please also refer to the documentation for alternative solver options:\n",
      "    https://scikit-learn.org/stable/modules/linear_model.html#logistic-regression\n",
      "  extra_warning_msg=_LOGISTIC_SOLVER_CONVERGENCE_MSG)\n",
      "/Users/wasilaq/opt/anaconda3/envs/metis/lib/python3.7/site-packages/sklearn/linear_model/_logistic.py:940: ConvergenceWarning: lbfgs failed to converge (status=1):\n",
      "STOP: TOTAL NO. of ITERATIONS REACHED LIMIT.\n",
      "\n",
      "Increase the number of iterations (max_iter) or scale the data as shown in:\n",
      "    https://scikit-learn.org/stable/modules/preprocessing.html\n",
      "Please also refer to the documentation for alternative solver options:\n",
      "    https://scikit-learn.org/stable/modules/linear_model.html#logistic-regression\n",
      "  extra_warning_msg=_LOGISTIC_SOLVER_CONVERGENCE_MSG)\n",
      "/Users/wasilaq/opt/anaconda3/envs/metis/lib/python3.7/site-packages/sklearn/linear_model/_logistic.py:940: ConvergenceWarning: lbfgs failed to converge (status=1):\n",
      "STOP: TOTAL NO. of ITERATIONS REACHED LIMIT.\n",
      "\n",
      "Increase the number of iterations (max_iter) or scale the data as shown in:\n",
      "    https://scikit-learn.org/stable/modules/preprocessing.html\n",
      "Please also refer to the documentation for alternative solver options:\n",
      "    https://scikit-learn.org/stable/modules/linear_model.html#logistic-regression\n",
      "  extra_warning_msg=_LOGISTIC_SOLVER_CONVERGENCE_MSG)\n",
      "/Users/wasilaq/opt/anaconda3/envs/metis/lib/python3.7/site-packages/sklearn/linear_model/_logistic.py:940: ConvergenceWarning: lbfgs failed to converge (status=1):\n",
      "STOP: TOTAL NO. of ITERATIONS REACHED LIMIT.\n",
      "\n",
      "Increase the number of iterations (max_iter) or scale the data as shown in:\n",
      "    https://scikit-learn.org/stable/modules/preprocessing.html\n",
      "Please also refer to the documentation for alternative solver options:\n",
      "    https://scikit-learn.org/stable/modules/linear_model.html#logistic-regression\n",
      "  extra_warning_msg=_LOGISTIC_SOLVER_CONVERGENCE_MSG)\n",
      "/Users/wasilaq/opt/anaconda3/envs/metis/lib/python3.7/site-packages/sklearn/linear_model/_logistic.py:940: ConvergenceWarning: lbfgs failed to converge (status=1):\n",
      "STOP: TOTAL NO. of ITERATIONS REACHED LIMIT.\n",
      "\n",
      "Increase the number of iterations (max_iter) or scale the data as shown in:\n",
      "    https://scikit-learn.org/stable/modules/preprocessing.html\n",
      "Please also refer to the documentation for alternative solver options:\n",
      "    https://scikit-learn.org/stable/modules/linear_model.html#logistic-regression\n",
      "  extra_warning_msg=_LOGISTIC_SOLVER_CONVERGENCE_MSG)\n"
     ]
    },
    {
     "data": {
      "text/plain": [
       "array([0.59846154, 0.65163252, 0.59864529, 0.60313935, 0.61981633])"
      ]
     },
     "execution_count": 21,
     "metadata": {},
     "output_type": "execute_result"
    }
   ],
   "source": [
    "cross_val_score(lr_all_cw, X_val, y_val, cv=5, scoring='roc_auc')"
   ]
  },
  {
   "cell_type": "markdown",
   "metadata": {},
   "source": [
    "### Random Forest"
   ]
  },
  {
   "cell_type": "code",
   "execution_count": 22,
   "metadata": {},
   "outputs": [
    {
     "data": {
      "text/plain": [
       "0.8921583315854134"
      ]
     },
     "execution_count": 22,
     "metadata": {},
     "output_type": "execute_result"
    }
   ],
   "source": [
    "rfc_all = RandomForestClassifier().fit(X_train_adj, y_train_adj)\n",
    "\n",
    "f1_score(y_train_adj, rfc_all.predict(X_train_adj))"
   ]
  },
  {
   "cell_type": "code",
   "execution_count": 23,
   "metadata": {},
   "outputs": [
    {
     "data": {
      "text/plain": [
       "0.9646226576637666"
      ]
     },
     "execution_count": 23,
     "metadata": {},
     "output_type": "execute_result"
    }
   ],
   "source": [
    "roc_auc_score(y_train_adj, rfc_all.predict_proba(X_train_adj)[:,1])"
   ]
  },
  {
   "cell_type": "code",
   "execution_count": 24,
   "metadata": {},
   "outputs": [
    {
     "data": {
      "text/plain": [
       "array([0.12318841, 0.20979021, 0.16494845, 0.17307692, 0.17266187])"
      ]
     },
     "execution_count": 24,
     "metadata": {},
     "output_type": "execute_result"
    }
   ],
   "source": [
    "cross_val_score(rfc_all, X_val, y_val, cv=5, scoring='f1')"
   ]
  },
  {
   "cell_type": "code",
   "execution_count": 25,
   "metadata": {},
   "outputs": [
    {
     "data": {
      "text/plain": [
       "array([0.63026156, 0.59833527, 0.60178729, 0.62570809, 0.6090956 ])"
      ]
     },
     "execution_count": 25,
     "metadata": {},
     "output_type": "execute_result"
    }
   ],
   "source": [
    "cross_val_score(rfc_all, X_val, y_val, cv=5, scoring='roc_auc')"
   ]
  },
  {
   "cell_type": "code",
   "execution_count": 26,
   "metadata": {},
   "outputs": [],
   "source": [
    "rfc_all_cw = RandomForestClassifier(class_weight='balanced').fit(X_train, y_train)"
   ]
  },
  {
   "cell_type": "code",
   "execution_count": 29,
   "metadata": {},
   "outputs": [
    {
     "data": {
      "text/plain": [
       "0.8479127196707389"
      ]
     },
     "execution_count": 29,
     "metadata": {},
     "output_type": "execute_result"
    }
   ],
   "source": [
    "f1_score(y_train_adj, rfc_all_cw.predict(X_train_adj))"
   ]
  },
  {
   "cell_type": "code",
   "execution_count": 27,
   "metadata": {},
   "outputs": [
    {
     "data": {
      "text/plain": [
       "array([0.15333333, 0.21935484, 0.20754717, 0.19526627, 0.20327869])"
      ]
     },
     "execution_count": 27,
     "metadata": {},
     "output_type": "execute_result"
    }
   ],
   "source": [
    "cross_val_score(rfc_all_cw, X_val, y_val, cv=5, scoring='f1')"
   ]
  },
  {
   "cell_type": "code",
   "execution_count": 28,
   "metadata": {},
   "outputs": [
    {
     "data": {
      "text/plain": [
       "array([0.62827213, 0.60642958, 0.60216029, 0.61913275, 0.63925347])"
      ]
     },
     "execution_count": 28,
     "metadata": {},
     "output_type": "execute_result"
    }
   ],
   "source": [
    "cross_val_score(rfc_all_cw, X_val, y_val, cv=5, scoring='roc_auc')"
   ]
  },
  {
   "cell_type": "markdown",
   "metadata": {},
   "source": [
    "### KNN"
   ]
  },
  {
   "cell_type": "code",
   "execution_count": 30,
   "metadata": {},
   "outputs": [
    {
     "data": {
      "text/plain": [
       "0.4932814846186424"
      ]
     },
     "execution_count": 30,
     "metadata": {},
     "output_type": "execute_result"
    }
   ],
   "source": [
    "knn_all = KNeighborsClassifier(n_neighbors=100).fit(X_train_adj, y_train_adj)\n",
    "\n",
    "f1_score(y_train_adj, knn_all.predict(X_train_adj))"
   ]
  },
  {
   "cell_type": "code",
   "execution_count": 31,
   "metadata": {},
   "outputs": [
    {
     "data": {
      "text/plain": [
       "0.6706124153417735"
      ]
     },
     "execution_count": 31,
     "metadata": {},
     "output_type": "execute_result"
    }
   ],
   "source": [
    "roc_auc_score(y_train_adj, knn_all.predict_proba(X_train_adj)[:,1])"
   ]
  },
  {
   "cell_type": "code",
   "execution_count": 32,
   "metadata": {},
   "outputs": [
    {
     "data": {
      "text/plain": [
       "array([0.54957866, 0.57538462, 0.54939647, 0.5234587 , 0.56271217])"
      ]
     },
     "execution_count": 32,
     "metadata": {},
     "output_type": "execute_result"
    }
   ],
   "source": [
    "cross_val_score(knn_all, X_val, y_val, cv=5, scoring='roc_auc')"
   ]
  },
  {
   "cell_type": "markdown",
   "metadata": {},
   "source": [
    "### Naive Bayes"
   ]
  },
  {
   "cell_type": "code",
   "execution_count": 33,
   "metadata": {},
   "outputs": [
    {
     "data": {
      "text/plain": [
       "0.4490168818272096"
      ]
     },
     "execution_count": 33,
     "metadata": {},
     "output_type": "execute_result"
    }
   ],
   "source": [
    "nb_all = BernoulliNB().fit(X_train_adj, y_train_adj)\n",
    "\n",
    "f1_score(y_train_adj, nb_all.predict(X_train_adj)) # 0.6073"
   ]
  },
  {
   "cell_type": "code",
   "execution_count": 34,
   "metadata": {},
   "outputs": [
    {
     "data": {
      "text/plain": [
       "0.6349646947398345"
      ]
     },
     "execution_count": 34,
     "metadata": {},
     "output_type": "execute_result"
    }
   ],
   "source": [
    "roc_auc_score(y_train_adj, nb_all.predict_proba(X_train_adj)[:,1]) # 0.7617"
   ]
  },
  {
   "cell_type": "code",
   "execution_count": 35,
   "metadata": {},
   "outputs": [
    {
     "data": {
      "text/plain": [
       "array([0.1294964 , 0.22145329, 0.16722408, 0.18649518, 0.17518248])"
      ]
     },
     "execution_count": 35,
     "metadata": {},
     "output_type": "execute_result"
    }
   ],
   "source": [
    "cross_val_score(rfc_all, X_val, y_val, cv=5, scoring='f1')"
   ]
  },
  {
   "cell_type": "code",
   "execution_count": 36,
   "metadata": {},
   "outputs": [
    {
     "data": {
      "text/plain": [
       "array([0.61894086, 0.59966757, 0.60211107, 0.60604654, 0.63108652])"
      ]
     },
     "execution_count": 36,
     "metadata": {},
     "output_type": "execute_result"
    }
   ],
   "source": [
    "cross_val_score(rfc_all, X_val, y_val, cv=5, scoring='roc_auc')"
   ]
  },
  {
   "cell_type": "markdown",
   "metadata": {},
   "source": [
    "# Random Forest"
   ]
  },
  {
   "cell_type": "markdown",
   "metadata": {},
   "source": [
    "## Number of Trees"
   ]
  },
  {
   "cell_type": "code",
   "execution_count": 39,
   "metadata": {},
   "outputs": [
    {
     "data": {
      "text/plain": [
       "0.6997051804015162"
      ]
     },
     "execution_count": 39,
     "metadata": {},
     "output_type": "execute_result"
    }
   ],
   "source": [
    "rfc_150 = RandomForestClassifier(n_estimators=150, class_weight='balanced').fit(X_train, y_train)\n",
    "\n",
    "f1_score(y_train, rfc_150.predict(X_train))"
   ]
  },
  {
   "cell_type": "code",
   "execution_count": 40,
   "metadata": {},
   "outputs": [
    {
     "data": {
      "text/plain": [
       "array([0.1650165 , 0.20261438, 0.20754717, 0.2042042 , 0.20261438])"
      ]
     },
     "execution_count": 40,
     "metadata": {},
     "output_type": "execute_result"
    }
   ],
   "source": [
    "cross_val_score(rfc_150, X_val, y_val, cv=5, scoring='f1')"
   ]
  },
  {
   "cell_type": "code",
   "execution_count": 41,
   "metadata": {},
   "outputs": [
    {
     "data": {
      "text/plain": [
       "0.6976013706453454"
      ]
     },
     "execution_count": 41,
     "metadata": {},
     "output_type": "execute_result"
    }
   ],
   "source": [
    "rfc_75 = RandomForestClassifier(n_estimators=75, class_weight='balanced').fit(X_train, y_train)\n",
    "\n",
    "f1_score(y_train, rfc_75.predict(X_train))"
   ]
  },
  {
   "cell_type": "code",
   "execution_count": 42,
   "metadata": {},
   "outputs": [
    {
     "data": {
      "text/plain": [
       "array([0.17880795, 0.2278481 , 0.19745223, 0.23255814, 0.23566879])"
      ]
     },
     "execution_count": 42,
     "metadata": {},
     "output_type": "execute_result"
    }
   ],
   "source": [
    "cross_val_score(rfc_75, X_val, y_val, cv=5, scoring='f1')"
   ]
  },
  {
   "cell_type": "code",
   "execution_count": 44,
   "metadata": {},
   "outputs": [
    {
     "data": {
      "text/plain": [
       "0.6921981776765377"
      ]
     },
     "execution_count": 44,
     "metadata": {},
     "output_type": "execute_result"
    }
   ],
   "source": [
    "rfc_50 = RandomForestClassifier(n_estimators=50, class_weight='balanced').fit(X_train, y_train)\n",
    "\n",
    "f1_score(y_train, rfc_50.predict(X_train))"
   ]
  },
  {
   "cell_type": "code",
   "execution_count": 45,
   "metadata": {},
   "outputs": [
    {
     "data": {
      "text/plain": [
       "array([0.15384615, 0.2       , 0.17647059, 0.21752266, 0.2020202 ])"
      ]
     },
     "execution_count": 45,
     "metadata": {},
     "output_type": "execute_result"
    }
   ],
   "source": [
    "cross_val_score(rfc_50, X_val, y_val, cv=5, scoring='f1')"
   ]
  },
  {
   "cell_type": "code",
   "execution_count": 46,
   "metadata": {},
   "outputs": [
    {
     "data": {
      "text/plain": [
       "0.6898434133026864"
      ]
     },
     "execution_count": 46,
     "metadata": {},
     "output_type": "execute_result"
    }
   ],
   "source": [
    "rfc_40 = RandomForestClassifier(n_estimators=40, class_weight='balanced').fit(X_train, y_train)\n",
    "\n",
    "f1_score(y_train, rfc_40.predict(X_train))"
   ]
  },
  {
   "cell_type": "code",
   "execution_count": 47,
   "metadata": {},
   "outputs": [
    {
     "data": {
      "text/plain": [
       "array([0.19269103, 0.24516129, 0.17763158, 0.22089552, 0.21192053])"
      ]
     },
     "execution_count": 47,
     "metadata": {},
     "output_type": "execute_result"
    }
   ],
   "source": [
    "cross_val_score(rfc_40, X_val, y_val, cv=5, scoring='f1')"
   ]
  },
  {
   "cell_type": "code",
   "execution_count": null,
   "metadata": {},
   "outputs": [],
   "source": [
    "# use 75 trees"
   ]
  },
  {
   "cell_type": "markdown",
   "metadata": {},
   "source": [
    "### Features: dayofweek, operating_airline, Type"
   ]
  },
  {
   "cell_type": "code",
   "execution_count": 60,
   "metadata": {},
   "outputs": [],
   "source": [
    "X_r1 = pd.get_dummies(all_flights[['dayofweek','operating_airline','Type']], drop_first=True)\n",
    "\n",
    "X_tv, X_test, y_tv, y_test = train_test_split(X_r1, y, test_size=0.20)\n",
    "X_train, X_val, y_train, y_val = train_test_split(X_tv, y_tv, test_size=0.25)"
   ]
  },
  {
   "cell_type": "code",
   "execution_count": null,
   "metadata": {},
   "outputs": [],
   "source": [
    "rfc_1 = RandomForestClassifier(n_estimators=75, class_weight='balanced').fit(X_train, y_train)"
   ]
  },
  {
   "cell_type": "code",
   "execution_count": 51,
   "metadata": {
    "scrolled": true
   },
   "outputs": [
    {
     "name": "stdout",
     "output_type": "stream",
     "text": [
      "0.3547838539335899\n"
     ]
    },
    {
     "data": {
      "text/plain": [
       "array([0.31485588, 0.31827957, 0.31355932, 0.28711256, 0.30210325])"
      ]
     },
     "execution_count": 51,
     "metadata": {},
     "output_type": "execute_result"
    }
   ],
   "source": [
    "print(f1_score(y_train, rfc_1.predict(X_train)))\n",
    "cross_val_score(rfc_1, X_val, y_val, cv=5, scoring='f1')"
   ]
  },
  {
   "cell_type": "code",
   "execution_count": 61,
   "metadata": {},
   "outputs": [
    {
     "data": {
      "text/plain": [
       "array([0.64705882, 0.65210084, 0.64844407, 0.67788057, 0.65937763])"
      ]
     },
     "execution_count": 61,
     "metadata": {},
     "output_type": "execute_result"
    }
   ],
   "source": [
    "cross_val_score(rfc_1, X_val, y_val, cv=5, scoring='accuracy')"
   ]
  },
  {
   "cell_type": "markdown",
   "metadata": {},
   "source": [
    "### Add destination"
   ]
  },
  {
   "cell_type": "code",
   "execution_count": 115,
   "metadata": {},
   "outputs": [],
   "source": [
    "X_r2 = pd.get_dummies(all_flights[['dayofweek','operating_airline','Type','dest']], drop_first=True)\n",
    "\n",
    "X_tv, X_test, y_tv, y_test = train_test_split(X_r2, y, test_size=0.20)\n",
    "X_train, X_val, y_train, y_val = train_test_split(X_tv, y_tv, test_size=0.25)"
   ]
  },
  {
   "cell_type": "code",
   "execution_count": 116,
   "metadata": {},
   "outputs": [],
   "source": [
    "rfc_2 = RandomForestClassifier(n_estimators=75, class_weight='balanced').fit(X_train, y_train)"
   ]
  },
  {
   "cell_type": "code",
   "execution_count": 117,
   "metadata": {},
   "outputs": [
    {
     "name": "stdout",
     "output_type": "stream",
     "text": [
      "0.46929722157366327\n"
     ]
    },
    {
     "data": {
      "text/plain": [
       "array([0.2642369 , 0.23414634, 0.24      , 0.26388889, 0.23788546])"
      ]
     },
     "execution_count": 117,
     "metadata": {},
     "output_type": "execute_result"
    }
   ],
   "source": [
    "print(f1_score(y_train, rfc_2.predict(X_train)))\n",
    "cross_val_score(rfc_2, X_val, y_val, cv=5, scoring='f1')"
   ]
  },
  {
   "cell_type": "code",
   "execution_count": 118,
   "metadata": {},
   "outputs": [
    {
     "data": {
      "text/plain": [
       "array([0.73109244, 0.73697479, 0.72497897, 0.7392767 , 0.71404542])"
      ]
     },
     "execution_count": 118,
     "metadata": {},
     "output_type": "execute_result"
    }
   ],
   "source": [
    "cross_val_score(rfc_2, X_val, y_val, cv=5, scoring='accuracy')"
   ]
  },
  {
   "cell_type": "code",
   "execution_count": 119,
   "metadata": {},
   "outputs": [],
   "source": [
    "X_r3 = pd.get_dummies(all_flights[['dayofweek','operating_airline','Type','destcityname']], drop_first=True)\n",
    "\n",
    "X_tv, X_test, y_tv, y_test = train_test_split(X_r3, y, test_size=0.20)\n",
    "X_train, X_val, y_train, y_val = train_test_split(X_tv, y_tv, test_size=0.25)\n",
    "\n",
    "rfc_3 = RandomForestClassifier(n_estimators=75, class_weight='balanced').fit(X_train, y_train)"
   ]
  },
  {
   "cell_type": "code",
   "execution_count": 120,
   "metadata": {},
   "outputs": [
    {
     "name": "stdout",
     "output_type": "stream",
     "text": [
      "0.4697612410616894\n"
     ]
    },
    {
     "data": {
      "text/plain": [
       "array([0.248394  , 0.32478632, 0.24842105, 0.24282561, 0.26521739])"
      ]
     },
     "execution_count": 120,
     "metadata": {},
     "output_type": "execute_result"
    }
   ],
   "source": [
    "print(f1_score(y_train, rfc_3.predict(X_train)))\n",
    "cross_val_score(rfc_3, X_val, y_val, cv=5, scoring='f1')\n",
    "\n",
    "# destination features resulting in lower validation scores"
   ]
  },
  {
   "cell_type": "markdown",
   "metadata": {},
   "source": [
    "### Features: dayofweek, operating_airline, tail_number, Type, deptimeblk, arrtimeblk"
   ]
  },
  {
   "cell_type": "code",
   "execution_count": 58,
   "metadata": {},
   "outputs": [],
   "source": [
    "X_r4 = pd.get_dummies(all_flights[['dayofweek','operating_airline','Type','arrtimeblk','deptimeblk']], drop_first=True)\n",
    "\n",
    "X_tv, X_test, y_tv, y_test = train_test_split(X_r4, y, test_size=0.20)\n",
    "X_train, X_val, y_train, y_test = train_test_split(X_tv, y_tv, test_size=0.25)\n",
    "\n",
    "rfc_4 = RandomForestClassifier(n_estimators=75, class_weight='balanced').fit(X_train, y_train)"
   ]
  },
  {
   "cell_type": "code",
   "execution_count": 59,
   "metadata": {},
   "outputs": [
    {
     "name": "stdout",
     "output_type": "stream",
     "text": [
      "0.47025695177754306\n"
     ]
    },
    {
     "data": {
      "text/plain": [
       "array([0.17029703, 0.19341564, 0.17131474, 0.19885277, 0.19639279])"
      ]
     },
     "execution_count": 59,
     "metadata": {},
     "output_type": "execute_result"
    }
   ],
   "source": [
    "print(f1_score(y_train, rfc_4.predict(X_train)))\n",
    "cross_val_score(rfc_4, X_val, y_val, cv=5, scoring='f1')\n",
    "\n",
    "# adding arrival and departure times lowered score"
   ]
  },
  {
   "cell_type": "markdown",
   "metadata": {},
   "source": [
    "Best feature combo\n",
    "* dayofweek\n",
    "* operating_airline\n",
    "* Type"
   ]
  },
  {
   "cell_type": "markdown",
   "metadata": {},
   "source": [
    "### Add Oversampling"
   ]
  },
  {
   "cell_type": "code",
   "execution_count": 122,
   "metadata": {
    "scrolled": true
   },
   "outputs": [],
   "source": [
    "X_tv, X_test, y_tv, y_test = train_test_split(X_r1, y, test_size=0.20)\n",
    "X_train, X_val, y_train, y_val = train_test_split(X_tv, y_tv, test_size=0.25)"
   ]
  },
  {
   "cell_type": "code",
   "execution_count": 123,
   "metadata": {},
   "outputs": [],
   "source": [
    "adj = RandomOverSampler(sampling_strategy = {1: np.sum(y_train==1)*4, 0: np.sum(y_train==0)})\n",
    "X_train_adj, y_train_adj = adj.fit_sample(X_train, y_train)"
   ]
  },
  {
   "cell_type": "code",
   "execution_count": 134,
   "metadata": {},
   "outputs": [],
   "source": [
    "rfc_1_cw = RandomForestClassifier(n_estimators=75, class_weight='balanced').fit(X_train_adj, y_train_adj)"
   ]
  },
  {
   "cell_type": "code",
   "execution_count": 129,
   "metadata": {},
   "outputs": [
    {
     "data": {
      "text/plain": [
       "0.5941534105105356"
      ]
     },
     "execution_count": 129,
     "metadata": {},
     "output_type": "execute_result"
    }
   ],
   "source": [
    "f1_score(y_train_adj, rfc_1_cw.predict(X_train_adj))"
   ]
  },
  {
   "cell_type": "code",
   "execution_count": 125,
   "metadata": {},
   "outputs": [
    {
     "data": {
      "text/plain": [
       "array([0.30670927, 0.31759657, 0.34035656, 0.32069971, 0.3354232 ])"
      ]
     },
     "execution_count": 125,
     "metadata": {},
     "output_type": "execute_result"
    }
   ],
   "source": [
    "cross_val_score(rfc_1_cw, X_val, y_val, cv=5, scoring='f1')"
   ]
  },
  {
   "cell_type": "code",
   "execution_count": 126,
   "metadata": {},
   "outputs": [
    {
     "data": {
      "text/plain": [
       "array([0.58823529, 0.59747899, 0.66947014, 0.60723297, 0.64339781])"
      ]
     },
     "execution_count": 126,
     "metadata": {},
     "output_type": "execute_result"
    }
   ],
   "source": [
    "cross_val_score(rfc_1_cw, X_val, y_val, cv=5, scoring='accuracy')"
   ]
  },
  {
   "cell_type": "markdown",
   "metadata": {},
   "source": [
    "## RF Parameters"
   ]
  },
  {
   "cell_type": "markdown",
   "metadata": {},
   "source": [
    "### Max depth (pruning)"
   ]
  },
  {
   "cell_type": "code",
   "execution_count": 127,
   "metadata": {},
   "outputs": [],
   "source": [
    "rfc_5 = RandomForestClassifier(n_estimators=75, max_depth=50, class_weight='balanced').fit(X_train_adj, y_train_adj)"
   ]
  },
  {
   "cell_type": "code",
   "execution_count": 128,
   "metadata": {},
   "outputs": [
    {
     "name": "stdout",
     "output_type": "stream",
     "text": [
      "0.5943584623065402\n"
     ]
    },
    {
     "data": {
      "text/plain": [
       "array([0.30625832, 0.31746032, 0.34680135, 0.31441048, 0.33385335])"
      ]
     },
     "execution_count": 128,
     "metadata": {},
     "output_type": "execute_result"
    }
   ],
   "source": [
    "print(f1_score(y_train_adj, rfc_5.predict(X_train_adj)))\n",
    "cross_val_score(rfc_5, X_val, y_val, cv=5, scoring='f1')"
   ]
  },
  {
   "cell_type": "code",
   "execution_count": 130,
   "metadata": {
    "scrolled": true
   },
   "outputs": [],
   "source": [
    "rfc_6 = RandomForestClassifier(n_estimators=75, max_depth=30, class_weight='balanced').fit(X_train_adj, y_train_adj)"
   ]
  },
  {
   "cell_type": "code",
   "execution_count": 131,
   "metadata": {
    "scrolled": true
   },
   "outputs": [
    {
     "name": "stdout",
     "output_type": "stream",
     "text": [
      "0.5938893751823601\n"
     ]
    },
    {
     "data": {
      "text/plain": [
       "array([0.30898876, 0.3045388 , 0.3360522 , 0.31683168, 0.33385335])"
      ]
     },
     "execution_count": 131,
     "metadata": {},
     "output_type": "execute_result"
    }
   ],
   "source": [
    "print(f1_score(y_train_adj, rfc_6.predict(X_train_adj)))\n",
    "cross_val_score(rfc_6, X_val, y_val, cv=5, scoring='f1')"
   ]
  },
  {
   "cell_type": "code",
   "execution_count": 132,
   "metadata": {},
   "outputs": [],
   "source": [
    "rfc_7 = RandomForestClassifier(n_estimators=75, max_depth=20, class_weight='balanced').fit(X_train_adj, y_train_adj)"
   ]
  },
  {
   "cell_type": "code",
   "execution_count": 133,
   "metadata": {},
   "outputs": [
    {
     "name": "stdout",
     "output_type": "stream",
     "text": [
      "0.5938893751823601\n"
     ]
    },
    {
     "data": {
      "text/plain": [
       "array([0.31086657, 0.3137931 , 0.34369885, 0.31954351, 0.33700787])"
      ]
     },
     "execution_count": 133,
     "metadata": {},
     "output_type": "execute_result"
    }
   ],
   "source": [
    "print(f1_score(y_train_adj, rfc_7.predict(X_train_adj)))\n",
    "cross_val_score(rfc_7, X_val, y_val, cv=5, scoring='f1')"
   ]
  },
  {
   "cell_type": "markdown",
   "metadata": {},
   "source": [
    "# Final"
   ]
  },
  {
   "cell_type": "markdown",
   "metadata": {},
   "source": [
    "#### Random forest, 75 trees, class weight balanced, oversampling (x4), features: dayofweek, operating_airline, type"
   ]
  },
  {
   "cell_type": "markdown",
   "metadata": {},
   "source": [
    "### Training Data"
   ]
  },
  {
   "cell_type": "code",
   "execution_count": 135,
   "metadata": {},
   "outputs": [
    {
     "data": {
      "text/plain": [
       "0.3579054397559736"
      ]
     },
     "execution_count": 135,
     "metadata": {},
     "output_type": "execute_result"
    }
   ],
   "source": [
    "f1_score(y_train, rfc_1_cw.predict(X_train))"
   ]
  },
  {
   "cell_type": "markdown",
   "metadata": {},
   "source": [
    "### Validation"
   ]
  },
  {
   "cell_type": "code",
   "execution_count": 136,
   "metadata": {},
   "outputs": [
    {
     "data": {
      "text/plain": [
       "array([0.31024931, 0.31366906, 0.33333333, 0.31625183, 0.33513514])"
      ]
     },
     "execution_count": 136,
     "metadata": {},
     "output_type": "execute_result"
    }
   ],
   "source": [
    "cross_val_score(rfc_1_cw, X_val, y_val, scoring='f1')"
   ]
  },
  {
   "cell_type": "code",
   "execution_count": 137,
   "metadata": {},
   "outputs": [
    {
     "data": {
      "text/plain": [
       "array([[3199, 1827],\n",
       "       [ 390,  531]])"
      ]
     },
     "execution_count": 137,
     "metadata": {},
     "output_type": "execute_result"
    }
   ],
   "source": [
    "confusion_matrix(y_val, rfc_1_cw.predict(X_val))"
   ]
  },
  {
   "cell_type": "markdown",
   "metadata": {},
   "source": [
    "### Test Data"
   ]
  },
  {
   "cell_type": "code",
   "execution_count": 138,
   "metadata": {},
   "outputs": [],
   "source": [
    "test_pred = rfc_1_cw.predict(X_test)"
   ]
  },
  {
   "cell_type": "code",
   "execution_count": 139,
   "metadata": {},
   "outputs": [
    {
     "data": {
      "text/plain": [
       "0.3283847980997625"
      ]
     },
     "execution_count": 139,
     "metadata": {},
     "output_type": "execute_result"
    }
   ],
   "source": [
    "f1_score(y_test,test_pred)"
   ]
  },
  {
   "cell_type": "code",
   "execution_count": 140,
   "metadata": {
    "scrolled": true
   },
   "outputs": [
    {
     "data": {
      "text/plain": [
       "array([[3132, 1825],\n",
       "       [ 437,  553]])"
      ]
     },
     "execution_count": 140,
     "metadata": {},
     "output_type": "execute_result"
    }
   ],
   "source": [
    "confusion_matrix(y_test, test_pred)"
   ]
  },
  {
   "cell_type": "markdown",
   "metadata": {},
   "source": [
    "# Exporting Results"
   ]
  },
  {
   "cell_type": "code",
   "execution_count": 142,
   "metadata": {},
   "outputs": [],
   "source": [
    "pred_prob = rfc_1_cw.predict_proba(X_test)[:,1]"
   ]
  },
  {
   "cell_type": "code",
   "execution_count": 143,
   "metadata": {},
   "outputs": [],
   "source": [
    "results = all_flights[['dayofweek','operating_airline','Type','arrdel15']].iloc[X_test.index]\n",
    "results['prediction'] = test_pred\n",
    "results['pred_prob_delay'] = pred_prob"
   ]
  },
  {
   "cell_type": "code",
   "execution_count": 144,
   "metadata": {
    "scrolled": false
   },
   "outputs": [
    {
     "data": {
      "text/html": [
       "<div>\n",
       "<style scoped>\n",
       "    .dataframe tbody tr th:only-of-type {\n",
       "        vertical-align: middle;\n",
       "    }\n",
       "\n",
       "    .dataframe tbody tr th {\n",
       "        vertical-align: top;\n",
       "    }\n",
       "\n",
       "    .dataframe thead th {\n",
       "        text-align: right;\n",
       "    }\n",
       "</style>\n",
       "<table border=\"1\" class=\"dataframe\">\n",
       "  <thead>\n",
       "    <tr style=\"text-align: right;\">\n",
       "      <th></th>\n",
       "      <th>dayofweek</th>\n",
       "      <th>operating_airline</th>\n",
       "      <th>Type</th>\n",
       "      <th>arrdel15</th>\n",
       "      <th>prediction</th>\n",
       "      <th>pred_prob_delay</th>\n",
       "    </tr>\n",
       "  </thead>\n",
       "  <tbody>\n",
       "    <tr>\n",
       "      <th>10364</th>\n",
       "      <td>1</td>\n",
       "      <td>AA</td>\n",
       "      <td>None</td>\n",
       "      <td>0</td>\n",
       "      <td>0</td>\n",
       "      <td>0.462887</td>\n",
       "    </tr>\n",
       "    <tr>\n",
       "      <th>27815</th>\n",
       "      <td>2</td>\n",
       "      <td>DL</td>\n",
       "      <td>None</td>\n",
       "      <td>0</td>\n",
       "      <td>0</td>\n",
       "      <td>0.375174</td>\n",
       "    </tr>\n",
       "    <tr>\n",
       "      <th>12965</th>\n",
       "      <td>4</td>\n",
       "      <td>DL</td>\n",
       "      <td>None</td>\n",
       "      <td>0</td>\n",
       "      <td>1</td>\n",
       "      <td>0.582925</td>\n",
       "    </tr>\n",
       "    <tr>\n",
       "      <th>13541</th>\n",
       "      <td>5</td>\n",
       "      <td>DL</td>\n",
       "      <td>None</td>\n",
       "      <td>0</td>\n",
       "      <td>0</td>\n",
       "      <td>0.425104</td>\n",
       "    </tr>\n",
       "    <tr>\n",
       "      <th>16038</th>\n",
       "      <td>5</td>\n",
       "      <td>DL</td>\n",
       "      <td>None</td>\n",
       "      <td>0</td>\n",
       "      <td>0</td>\n",
       "      <td>0.425104</td>\n",
       "    </tr>\n",
       "    <tr>\n",
       "      <th>...</th>\n",
       "      <td>...</td>\n",
       "      <td>...</td>\n",
       "      <td>...</td>\n",
       "      <td>...</td>\n",
       "      <td>...</td>\n",
       "      <td>...</td>\n",
       "    </tr>\n",
       "    <tr>\n",
       "      <th>22133</th>\n",
       "      <td>1</td>\n",
       "      <td>DL</td>\n",
       "      <td>None</td>\n",
       "      <td>0</td>\n",
       "      <td>1</td>\n",
       "      <td>0.505356</td>\n",
       "    </tr>\n",
       "    <tr>\n",
       "      <th>17870</th>\n",
       "      <td>5</td>\n",
       "      <td>DL</td>\n",
       "      <td>Rain</td>\n",
       "      <td>1</td>\n",
       "      <td>1</td>\n",
       "      <td>0.864576</td>\n",
       "    </tr>\n",
       "    <tr>\n",
       "      <th>17207</th>\n",
       "      <td>4</td>\n",
       "      <td>DL</td>\n",
       "      <td>Rain</td>\n",
       "      <td>0</td>\n",
       "      <td>0</td>\n",
       "      <td>0.273748</td>\n",
       "    </tr>\n",
       "    <tr>\n",
       "      <th>6682</th>\n",
       "      <td>1</td>\n",
       "      <td>WN</td>\n",
       "      <td>None</td>\n",
       "      <td>0</td>\n",
       "      <td>1</td>\n",
       "      <td>0.546635</td>\n",
       "    </tr>\n",
       "    <tr>\n",
       "      <th>9188</th>\n",
       "      <td>3</td>\n",
       "      <td>WN</td>\n",
       "      <td>None</td>\n",
       "      <td>0</td>\n",
       "      <td>1</td>\n",
       "      <td>0.513911</td>\n",
       "    </tr>\n",
       "  </tbody>\n",
       "</table>\n",
       "<p>5947 rows × 6 columns</p>\n",
       "</div>"
      ],
      "text/plain": [
       "       dayofweek operating_airline  Type  arrdel15  prediction  \\\n",
       "10364          1                AA  None         0           0   \n",
       "27815          2                DL  None         0           0   \n",
       "12965          4                DL  None         0           1   \n",
       "13541          5                DL  None         0           0   \n",
       "16038          5                DL  None         0           0   \n",
       "...          ...               ...   ...       ...         ...   \n",
       "22133          1                DL  None         0           1   \n",
       "17870          5                DL  Rain         1           1   \n",
       "17207          4                DL  Rain         0           0   \n",
       "6682           1                WN  None         0           1   \n",
       "9188           3                WN  None         0           1   \n",
       "\n",
       "       pred_prob_delay  \n",
       "10364         0.462887  \n",
       "27815         0.375174  \n",
       "12965         0.582925  \n",
       "13541         0.425104  \n",
       "16038         0.425104  \n",
       "...                ...  \n",
       "22133         0.505356  \n",
       "17870         0.864576  \n",
       "17207         0.273748  \n",
       "6682          0.546635  \n",
       "9188          0.513911  \n",
       "\n",
       "[5947 rows x 6 columns]"
      ]
     },
     "execution_count": 144,
     "metadata": {},
     "output_type": "execute_result"
    }
   ],
   "source": [
    "results"
   ]
  },
  {
   "cell_type": "code",
   "execution_count": 149,
   "metadata": {},
   "outputs": [],
   "source": [
    "results.to_csv('/Users/wasilaq/Metis/Proj3/pickled_files/ArrivalDelayResults.csv')"
   ]
  },
  {
   "cell_type": "code",
   "execution_count": 4,
   "metadata": {},
   "outputs": [
    {
     "data": {
      "text/html": [
       "<div>\n",
       "<style scoped>\n",
       "    .dataframe tbody tr th:only-of-type {\n",
       "        vertical-align: middle;\n",
       "    }\n",
       "\n",
       "    .dataframe tbody tr th {\n",
       "        vertical-align: top;\n",
       "    }\n",
       "\n",
       "    .dataframe thead th {\n",
       "        text-align: right;\n",
       "    }\n",
       "</style>\n",
       "<table border=\"1\" class=\"dataframe\">\n",
       "  <thead>\n",
       "    <tr style=\"text-align: right;\">\n",
       "      <th></th>\n",
       "      <th>Unnamed: 0</th>\n",
       "      <th>dayofweek</th>\n",
       "      <th>operating_airline</th>\n",
       "      <th>Type</th>\n",
       "      <th>arrdel15</th>\n",
       "      <th>prediction</th>\n",
       "      <th>pred_prob_delay</th>\n",
       "    </tr>\n",
       "  </thead>\n",
       "  <tbody>\n",
       "    <tr>\n",
       "      <th>0</th>\n",
       "      <td>10364</td>\n",
       "      <td>1</td>\n",
       "      <td>AA</td>\n",
       "      <td>None</td>\n",
       "      <td>0</td>\n",
       "      <td>0</td>\n",
       "      <td>0.462887</td>\n",
       "    </tr>\n",
       "    <tr>\n",
       "      <th>1</th>\n",
       "      <td>27815</td>\n",
       "      <td>2</td>\n",
       "      <td>DL</td>\n",
       "      <td>None</td>\n",
       "      <td>0</td>\n",
       "      <td>0</td>\n",
       "      <td>0.375174</td>\n",
       "    </tr>\n",
       "    <tr>\n",
       "      <th>2</th>\n",
       "      <td>12965</td>\n",
       "      <td>4</td>\n",
       "      <td>DL</td>\n",
       "      <td>None</td>\n",
       "      <td>0</td>\n",
       "      <td>1</td>\n",
       "      <td>0.582925</td>\n",
       "    </tr>\n",
       "    <tr>\n",
       "      <th>3</th>\n",
       "      <td>13541</td>\n",
       "      <td>5</td>\n",
       "      <td>DL</td>\n",
       "      <td>None</td>\n",
       "      <td>0</td>\n",
       "      <td>0</td>\n",
       "      <td>0.425104</td>\n",
       "    </tr>\n",
       "    <tr>\n",
       "      <th>4</th>\n",
       "      <td>16038</td>\n",
       "      <td>5</td>\n",
       "      <td>DL</td>\n",
       "      <td>None</td>\n",
       "      <td>0</td>\n",
       "      <td>0</td>\n",
       "      <td>0.425104</td>\n",
       "    </tr>\n",
       "  </tbody>\n",
       "</table>\n",
       "</div>"
      ],
      "text/plain": [
       "   Unnamed: 0  dayofweek operating_airline  Type  arrdel15  prediction  \\\n",
       "0       10364          1                AA  None         0           0   \n",
       "1       27815          2                DL  None         0           0   \n",
       "2       12965          4                DL  None         0           1   \n",
       "3       13541          5                DL  None         0           0   \n",
       "4       16038          5                DL  None         0           0   \n",
       "\n",
       "   pred_prob_delay  \n",
       "0         0.462887  \n",
       "1         0.375174  \n",
       "2         0.582925  \n",
       "3         0.425104  \n",
       "4         0.425104  "
      ]
     },
     "execution_count": 4,
     "metadata": {},
     "output_type": "execute_result"
    }
   ],
   "source": [
    "df = pd.read_csv('/Users/wasilaq/Metis/Proj3/pickled_files/ArrivalDelayResults.csv')\n",
    "\n",
    "df.head()"
   ]
  },
  {
   "cell_type": "markdown",
   "metadata": {},
   "source": [
    "# Saving Info For Tableau"
   ]
  },
  {
   "cell_type": "code",
   "execution_count": 9,
   "metadata": {},
   "outputs": [],
   "source": [
    "add_info = all_flights[\n",
    "    ['dep','flightdate','dayofmonth_x','dest','destcityname','StartTime(UTC)','EndTime(UTC)']\n",
    "].iloc[df['Unnamed: 0']]\n",
    "\n",
    "add_info.head()\n",
    "\n",
    "add_info.to_csv('/Users/wasilaq/Metis/Proj3/pickled_files/add_info.csv')"
   ]
  },
  {
   "cell_type": "code",
   "execution_count": null,
   "metadata": {},
   "outputs": [],
   "source": []
  }
 ],
 "metadata": {
  "kernelspec": {
   "display_name": "Python 3",
   "language": "python",
   "name": "python3"
  },
  "language_info": {
   "codemirror_mode": {
    "name": "ipython",
    "version": 3
   },
   "file_extension": ".py",
   "mimetype": "text/x-python",
   "name": "python",
   "nbconvert_exporter": "python",
   "pygments_lexer": "ipython3",
   "version": "3.8.5"
  },
  "varInspector": {
   "cols": {
    "lenName": 16,
    "lenType": 16,
    "lenVar": 40
   },
   "kernels_config": {
    "python": {
     "delete_cmd_postfix": "",
     "delete_cmd_prefix": "del ",
     "library": "var_list.py",
     "varRefreshCmd": "print(var_dic_list())"
    },
    "r": {
     "delete_cmd_postfix": ") ",
     "delete_cmd_prefix": "rm(",
     "library": "var_list.r",
     "varRefreshCmd": "cat(var_dic_list()) "
    }
   },
   "types_to_exclude": [
    "module",
    "function",
    "builtin_function_or_method",
    "instance",
    "_Feature"
   ],
   "window_display": false
  }
 },
 "nbformat": 4,
 "nbformat_minor": 4
}
